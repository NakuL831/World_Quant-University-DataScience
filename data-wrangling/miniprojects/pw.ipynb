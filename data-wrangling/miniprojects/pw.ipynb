{
 "cells": [
  {
   "cell_type": "code",
   "execution_count": 2,
   "metadata": {
    "init_cell": true
   },
   "outputs": [],
   "source": [
    "%logstop\n",
    "%logstart -rtq ~/.logs/pw.py append\n",
    "%matplotlib inline\n",
    "import matplotlib\n",
    "import seaborn as sns\n",
    "sns.set()\n",
    "matplotlib.rcParams['figure.dpi'] = 144"
   ]
  },
  {
   "cell_type": "code",
   "execution_count": 9,
   "metadata": {},
   "outputs": [],
   "source": [
    "from static_grader import grader"
   ]
  },
  {
   "cell_type": "markdown",
   "metadata": {},
   "source": [
    "# PW Miniproject\n",
    "## Introduction\n",
    "\n",
    "The objective of this miniproject is to exercise your ability to use basic Python data structures, define functions, and control program flow. We will be using these concepts to perform some fundamental data wrangling tasks such as joining data sets together, splitting data into groups, and aggregating data into summary statistics.\n",
    "**Please do not use `pandas` or `numpy` to answer these questions.**\n",
    "\n",
    "We will be working with medical data from the British NHS on prescription drugs. Since this is real data, it contains many ambiguities that we will need to confront in our analysis. This is commonplace in data science, and is one of the lessons you will learn in this miniproject."
   ]
  },
  {
   "cell_type": "markdown",
   "metadata": {},
   "source": [
    "## Downloading the data\n",
    "\n",
    "We first need to download the data we'll be using from Amazon S3:"
   ]
  },
  {
   "cell_type": "code",
   "execution_count": 10,
   "metadata": {},
   "outputs": [
    {
     "name": "stderr",
     "output_type": "stream",
     "text": [
      "mkdir: cannot create directory ‘pw-data’: File exists\n",
      "File ‘./pw-data/201701scripts_sample.json.gz’ already there; not retrieving.\n",
      "\n",
      "File ‘./pw-data/practices.json.gz’ already there; not retrieving.\n",
      "\n"
     ]
    }
   ],
   "source": [
    "%%bash\n",
    "mkdir pw-data\n",
    "wget http://dataincubator-wqu.s3.amazonaws.com/pwdata/201701scripts_sample.json.gz -nc -P ./pw-data\n",
    "wget http://dataincubator-wqu.s3.amazonaws.com/pwdata/practices.json.gz -nc -P ./pw-data"
   ]
  },
  {
   "cell_type": "markdown",
   "metadata": {},
   "source": [
    "## Loading the data\n",
    "\n",
    "The first step of the project is to read in the data. We will discuss reading and writing various kinds of files later in the course, but the code below should get you started."
   ]
  },
  {
   "cell_type": "code",
   "execution_count": 11,
   "metadata": {},
   "outputs": [],
   "source": [
    "import gzip\n",
    "import simplejson as json"
   ]
  },
  {
   "cell_type": "code",
   "execution_count": 12,
   "metadata": {},
   "outputs": [],
   "source": [
    "with gzip.open('./pw-data/201701scripts_sample.json.gz', 'rb') as f:\n",
    "    scripts = json.load(f)\n",
    "\n",
    "with gzip.open('./pw-data/practices.json.gz', 'rb') as f:\n",
    "    practices = json.load(f)"
   ]
  },
  {
   "cell_type": "markdown",
   "metadata": {},
   "source": [
    "This data set comes from Britain's National Health Service. The `scripts` variable is a list of prescriptions issued by NHS doctors. Each prescription is represented by a dictionary with various data fields: `'practice'`, `'bnf_code'`, `'bnf_name'`, `'quantity'`, `'items'`, `'nic'`, and `'act_cost'`. "
   ]
  },
  {
   "cell_type": "code",
   "execution_count": 13,
   "metadata": {},
   "outputs": [
    {
     "data": {
      "text/plain": [
       "[{'bnf_code': '0101010G0AAABAB',\n",
       "  'items': 2,\n",
       "  'practice': 'N81013',\n",
       "  'bnf_name': 'Co-Magaldrox_Susp 195mg/220mg/5ml S/F',\n",
       "  'nic': 5.98,\n",
       "  'act_cost': 5.56,\n",
       "  'quantity': 1000},\n",
       " {'bnf_code': '0101021B0AAAHAH',\n",
       "  'items': 1,\n",
       "  'practice': 'N81013',\n",
       "  'bnf_name': 'Alginate_Raft-Forming Oral Susp S/F',\n",
       "  'nic': 1.95,\n",
       "  'act_cost': 1.82,\n",
       "  'quantity': 500}]"
      ]
     },
     "execution_count": 13,
     "metadata": {},
     "output_type": "execute_result"
    }
   ],
   "source": [
    "scripts[:2]"
   ]
  },
  {
   "cell_type": "markdown",
   "metadata": {},
   "source": [
    "A [glossary of terms](http://webarchive.nationalarchives.gov.uk/20180328130852tf_/http://content.digital.nhs.uk/media/10686/Download-glossary-of-terms-for-GP-prescribing---presentation-level/pdf/PLP_Presentation_Level_Glossary_April_2015.pdf/) and [FAQ](http://webarchive.nationalarchives.gov.uk/20180328130852tf_/http://content.digital.nhs.uk/media/10048/FAQs-Practice-Level-Prescribingpdf/pdf/PLP_FAQs_April_2015.pdf/) is available from the NHS regarding the data. Below we supply a data dictionary briefly describing what these fields mean.\n",
    "\n",
    "| Data field |Description|\n",
    "|:----------:|-----------|\n",
    "|`'practice'`|Code designating the medical practice issuing the prescription|\n",
    "|`'bnf_code'`|British National Formulary drug code|\n",
    "|`'bnf_name'`|British National Formulary drug name|\n",
    "|`'quantity'`|Number of capsules/quantity of liquid/grams of powder prescribed|\n",
    "| `'items'`  |Number of refills (e.g. if `'quantity'` is 30 capsules, 3 `'items'` means 3 bottles of 30 capsules)|\n",
    "|  `'nic'`   |Net ingredient cost|\n",
    "|`'act_cost'`|Total cost including containers, fees, and discounts|"
   ]
  },
  {
   "cell_type": "markdown",
   "metadata": {},
   "source": [
    "The `practices` variable is a list of member medical practices of the NHS. Each practice is represented by a dictionary containing identifying information for the medical practice. Most of the data fields are self-explanatory. Notice the values in the `'code'` field of `practices` match the values in the `'practice'` field of `scripts`."
   ]
  },
  {
   "cell_type": "code",
   "execution_count": 14,
   "metadata": {},
   "outputs": [
    {
     "data": {
      "text/plain": [
       "[{'code': 'A81001',\n",
       "  'name': 'THE DENSHAM SURGERY',\n",
       "  'addr_1': 'THE HEALTH CENTRE',\n",
       "  'addr_2': 'LAWSON STREET',\n",
       "  'borough': 'STOCKTON ON TEES',\n",
       "  'village': 'CLEVELAND',\n",
       "  'post_code': 'TS18 1HU'},\n",
       " {'code': 'A81002',\n",
       "  'name': 'QUEENS PARK MEDICAL CENTRE',\n",
       "  'addr_1': 'QUEENS PARK MEDICAL CTR',\n",
       "  'addr_2': 'FARRER STREET',\n",
       "  'borough': 'STOCKTON ON TEES',\n",
       "  'village': 'CLEVELAND',\n",
       "  'post_code': 'TS18 2AW'}]"
      ]
     },
     "execution_count": 14,
     "metadata": {},
     "output_type": "execute_result"
    }
   ],
   "source": [
    "practices[:2]"
   ]
  },
  {
   "cell_type": "markdown",
   "metadata": {},
   "source": [
    "In the following questions we will ask you to explore this data set. You may need to combine pieces of the data set together in order to answer some questions. Not every element of the data set will be used in answering the questions."
   ]
  },
  {
   "cell_type": "markdown",
   "metadata": {},
   "source": [
    "## Question 1: summary_statistics\n",
    "\n",
    "Our beneficiary data (`scripts`) contains quantitative data on the number of items dispensed (`'items'`), the total quantity of item dispensed (`'quantity'`), the net cost of the ingredients (`'nic'`), and the actual cost to the patient (`'act_cost'`). Whenever working with a new data set, it can be useful to calculate summary statistics to develop a feeling for the volume and character of the data. This makes it easier to spot trends and significant features during further stages of analysis.\n",
    "\n",
    "Calculate the sum, mean, standard deviation, and quartile statistics for each of these quantities. Format your results for each quantity as a list: `[sum, mean, standard deviation, 1st quartile, median, 3rd quartile]`. We'll create a `tuple` with these lists for each quantity as a final result."
   ]
  },
  {
   "cell_type": "code",
   "execution_count": 15,
   "metadata": {},
   "outputs": [
    {
     "data": {
      "text/plain": [
       "5.0"
      ]
     },
     "execution_count": 15,
     "metadata": {},
     "output_type": "execute_result"
    }
   ],
   "source": [
    "\n",
    "from math import ceil, floor\n",
    "\n",
    "def quantile(values, q):\n",
    "    idx = len(values) * q\n",
    "    if idx == int(idx):\n",
    "        return sorted(values)[idx]\n",
    "    else:\n",
    "        f1 = floor(idx)\n",
    "        c1 = ceil(idx)\n",
    "        return sum(sorted(values)[f1:c1+1]) / 2\n",
    "    \n",
    "my_list = [0, 1, 3, 4, 50, 6, 7, 80, 9, 100, 11, 12, 13]\n",
    "\n",
    "quantile(my_list,0.25)"
   ]
  },
  {
   "cell_type": "code",
   "execution_count": 17,
   "metadata": {},
   "outputs": [],
   "source": [
    "from math import ceil\n",
    "\n",
    "def mean(values):\n",
    "    return sum(values) / len(values)\n",
    "\n",
    "def std(values, avg):\n",
    "    numerator = sum([(x-avg)**2 for x in values])\n",
    "    denominator = len(values)\n",
    "    return (numerator/denominator)**0.5\n",
    "\n",
    "def quantile(values, q):\n",
    "    idx = int(ceil(len(values) * q))\n",
    "    return sorted(values)[idx]\n",
    "    \n",
    "def describe(key):\n",
    "    values = [d[key] for d in scripts]\n",
    "    total  = sum(values)\n",
    "    avg    = mean(values)\n",
    "    s      = std(values, avg)\n",
    "    q25 = quantile(values, 0.25)\n",
    "    med = quantile(values, 0.5)\n",
    "    q75 =  quantile(values, 0.75)\n",
    "\n",
    "    return (total, avg, s, q25, med, q75)"
   ]
  },
  {
   "cell_type": "code",
   "execution_count": 18,
   "metadata": {},
   "outputs": [],
   "source": [
    "summary = [('items', describe('items')),\n",
    "           ('quantity', describe('quantity')),\n",
    "           ('nic', describe('nic')),\n",
    "           ('act_cost', describe('act_cost'))]"
   ]
  },
  {
   "cell_type": "code",
   "execution_count": 19,
   "metadata": {},
   "outputs": [
    {
     "name": "stdout",
     "output_type": "stream",
     "text": [
      "==================\n",
      "Your score:  1.0\n",
      "==================\n"
     ]
    }
   ],
   "source": [
    "grader.score.pw__summary_statistics(summary)"
   ]
  },
  {
   "cell_type": "markdown",
   "metadata": {},
   "source": [
    "## Question 2: most_common_item\n",
    "\n",
    "Often we are not interested only in how the data is distributed in our entire data set, but within particular groups -- for example, how many items of each drug (i.e. `'bnf_name'`) were prescribed? Calculate the total items prescribed for each `'bnf_name'`. What is the most commonly prescribed `'bnf_name'` in our data?\n",
    "\n",
    "To calculate this, we first need to split our data set into groups corresponding with the different values of `'bnf_name'`. Then we can sum the number of items dispensed within in each group. Finally we can find the largest sum.\n",
    "\n",
    "We'll use `'bnf_name'` to construct our groups. You should have *5619* unique values for `'bnf_name'`."
   ]
  },
  {
   "cell_type": "code",
   "execution_count": 20,
   "metadata": {},
   "outputs": [
    {
     "data": {
      "text/plain": [
       "{'bnf_code': '0101010G0AAABAB',\n",
       " 'items': 2,\n",
       " 'practice': 'N81013',\n",
       " 'bnf_name': 'Co-Magaldrox_Susp 195mg/220mg/5ml S/F',\n",
       " 'nic': 5.98,\n",
       " 'act_cost': 5.56,\n",
       " 'quantity': 1000}"
      ]
     },
     "execution_count": 20,
     "metadata": {},
     "output_type": "execute_result"
    }
   ],
   "source": [
    "scripts[0]"
   ]
  },
  {
   "cell_type": "code",
   "execution_count": 23,
   "metadata": {},
   "outputs": [],
   "source": [
    "#set comprehension\n",
    "bnf_names = {d['bnf_name'] for d in scripts}"
   ]
  },
  {
   "cell_type": "code",
   "execution_count": 24,
   "metadata": {},
   "outputs": [
    {
     "data": {
      "text/plain": [
       "5619"
      ]
     },
     "execution_count": 24,
     "metadata": {},
     "output_type": "execute_result"
    }
   ],
   "source": [
    "len(bnf_names)"
   ]
  },
  {
   "cell_type": "code",
   "execution_count": 26,
   "metadata": {},
   "outputs": [],
   "source": [
    "bnf_names = {d['bnf_name'] for d in scripts}\n",
    "assert(len(bnf_names) == 5619)"
   ]
  },
  {
   "cell_type": "markdown",
   "metadata": {},
   "source": [
    "We want to construct \"groups\" identified by `'bnf_name'`, where each group is a collection of prescriptions (i.e. dictionaries from `scripts`). We'll construct a dictionary called `groups`, using `bnf_names` as the keys. We'll represent a group with a `list`, since we can easily append new members to the group. To split our `scripts` into groups by `'bnf_name'`, we should iterate over `scripts`, appending prescription dictionaries to each group as we encounter them."
   ]
  },
  {
   "cell_type": "code",
   "execution_count": 27,
   "metadata": {},
   "outputs": [],
   "source": [
    "groups = {name: [] for name in bnf_names}\n",
    "for script in scripts:\n",
    "    groups[script['bnf_name']].append(script)"
   ]
  },
  {
   "cell_type": "code",
   "execution_count": 28,
   "metadata": {},
   "outputs": [
    {
     "data": {
      "text/plain": [
       "['Gliclazide_Tab 80mg', 'Priadel_Tab 200mg', 'Cinnarizine_Tab 15mg']"
      ]
     },
     "execution_count": 28,
     "metadata": {},
     "output_type": "execute_result"
    }
   ],
   "source": [
    "list(groups.keys())[:3]"
   ]
  },
  {
   "cell_type": "code",
   "execution_count": 29,
   "metadata": {},
   "outputs": [],
   "source": [
    "items = [(name, sum([d['items'] for d in group]))\n",
    "         for name, group in groups.items()]"
   ]
  },
  {
   "cell_type": "markdown",
   "metadata": {},
   "source": [
    "Now that we've constructed our groups we should sum up `'items'` in each group and find the `'bnf_name'` with the largest sum. The result, `max_item`, should have the form `[(bnf_name, item total)]`, e.g. `[('Foobar', 2000)]`."
   ]
  },
  {
   "cell_type": "code",
   "execution_count": 30,
   "metadata": {},
   "outputs": [],
   "source": [
    "max_item = [max(items, key=lambda tup: tup[1])]"
   ]
  },
  {
   "cell_type": "markdown",
   "metadata": {},
   "source": [
    "**TIP:** If you are getting an error from the grader below, please make sure your answer conforms to the correct format of `[(bnf_name, item total)]`."
   ]
  },
  {
   "cell_type": "code",
   "execution_count": 31,
   "metadata": {},
   "outputs": [
    {
     "name": "stdout",
     "output_type": "stream",
     "text": [
      "==================\n",
      "Your score:  1.0\n",
      "==================\n"
     ]
    }
   ],
   "source": [
    "grader.score.pw__most_common_item(max_item)"
   ]
  },
  {
   "cell_type": "markdown",
   "metadata": {},
   "source": [
    "**Challenge:** Write a function that constructs groups as we did above. The function should accept a list of dictionaries (e.g. `scripts` or `practices`) and a tuple of fields to `groupby` (e.g. `('bnf_name')` or `('bnf_name', 'post_code')`) and returns a dictionary of groups. The following questions will require you to aggregate data in groups, so this could be a useful function for the rest of the miniproject."
   ]
  },
  {
   "cell_type": "code",
   "execution_count": 32,
   "metadata": {},
   "outputs": [],
   "source": [
    "#Get the data of unique names\n",
    "bnf_names = {d['bnf_name'] for d in scripts}\n",
    "\n",
    "#Use unique names to create group dict\n",
    "groups = {name: [] for name in bnf_names}\n",
    "\n",
    "#Fill group dict from items in JSON(scripts)\n",
    "for script in scripts:\n",
    "    groups[script['bnf_name']].append(script)"
   ]
  },
  {
   "cell_type": "code",
   "execution_count": 33,
   "metadata": {},
   "outputs": [],
   "source": [
    "def group_by_field(data, fields):\n",
    "    #Get unique names\n",
    "    names = {tuple(d[field] for field in fields) for d in data}\n",
    "\n",
    "    #Use unique names to create group dict\n",
    "    groups = {name: [] for name in names}\n",
    "\n",
    "    #Fill group dict from items in JSON(scripts)\n",
    "    for item in data:\n",
    "        key = tuple(item[field] for field in fields)\n",
    "        groups[key].append(item)\n",
    "    \n",
    "    return groups"
   ]
  },
  {
   "cell_type": "code",
   "execution_count": 34,
   "metadata": {},
   "outputs": [
    {
     "name": "stdout",
     "output_type": "stream",
     "text": [
      "('Gliclazide_Tab 80mg', [{'bnf_code': '0601021M0AAAAAA', 'items': 59, 'practice': 'N81013', 'bnf_name': 'Gliclazide_Tab 80mg', 'nic': 106.6, 'act_cost': 100.01, 'quantity': 3640}, {'bnf_code': '0601021M0AAAAAA', 'items': 58, 'practice': 'N81029', 'bnf_name': 'Gliclazide_Tab 80mg', 'nic': 95.26, 'act_cost': 89.4, 'quantity': 3252}, {'bnf_code': '0601021M0AAAAAA', 'items': 102, 'practice': 'N81062', 'bnf_name': 'Gliclazide_Tab 80mg', 'nic': 171.28, 'act_cost': 162.11, 'quantity': 5848}, {'bnf_code': '0601021M0AAAAAA', 'items': 77, 'practice': 'N81085', 'bnf_name': 'Gliclazide_Tab 80mg', 'nic': 189.65, 'act_cost': 178.13, 'quantity': 6475}, {'bnf_code': '0601021M0AAAAAA', 'items': 61, 'practice': 'N81088', 'bnf_name': 'Gliclazide_Tab 80mg', 'nic': 145.14, 'act_cost': 135.93, 'quantity': 4956}, {'bnf_code': '0601021M0AAAAAA', 'items': 5, 'practice': 'N81632', 'bnf_name': 'Gliclazide_Tab 80mg', 'nic': 15.58, 'act_cost': 14.49, 'quantity': 532}, {'bnf_code': '0601021M0AAAAAA', 'items': 41, 'practice': 'N81010', 'bnf_name': 'Gliclazide_Tab 80mg', 'nic': 95.53, 'act_cost': 89.05, 'quantity': 3262}, {'bnf_code': '0601021M0AAAAAA', 'items': 68, 'practice': 'N81015', 'bnf_name': 'Gliclazide_Tab 80mg', 'nic': 154.69, 'act_cost': 144.43, 'quantity': 5282}, {'bnf_code': '0601021M0AAAAAA', 'items': 86, 'practice': 'N81016', 'bnf_name': 'Gliclazide_Tab 80mg', 'nic': 233.28, 'act_cost': 217.72, 'quantity': 7966}, {'bnf_code': '0601021M0AAAAAA', 'items': 50, 'practice': 'N81047', 'bnf_name': 'Gliclazide_Tab 80mg', 'nic': 125.3, 'act_cost': 117.73, 'quantity': 4278}, {'bnf_code': '0601021M0AAAAAA', 'items': 165, 'practice': 'N81053', 'bnf_name': 'Gliclazide_Tab 80mg', 'nic': 338.15, 'act_cost': 316.19, 'quantity': 11546}, {'bnf_code': '0601021M0AAAAAA', 'items': 31, 'practice': 'N81090', 'bnf_name': 'Gliclazide_Tab 80mg', 'nic': 63.15, 'act_cost': 59.65, 'quantity': 2156}, {'bnf_code': '0601021M0AAAAAA', 'items': 142, 'practice': 'N81024', 'bnf_name': 'Gliclazide_Tab 80mg', 'nic': 300.63, 'act_cost': 282.17, 'quantity': 10266}, {'bnf_code': '0601021M0AAAAAA', 'items': 40, 'practice': 'N81040', 'bnf_name': 'Gliclazide_Tab 80mg', 'nic': 80.42, 'act_cost': 75.74, 'quantity': 2746}, {'bnf_code': '0601021M0AAAAAA', 'items': 90, 'practice': 'N81127', 'bnf_name': 'Gliclazide_Tab 80mg', 'nic': 211.38, 'act_cost': 198.7, 'quantity': 7218}, {'bnf_code': '0601021M0AAAAAA', 'items': 23, 'practice': 'N81023', 'bnf_name': 'Gliclazide_Tab 80mg', 'nic': 50.3, 'act_cost': 47.75, 'quantity': 1718}, {'bnf_code': '0601021M0AAAAAA', 'items': 31, 'practice': 'N81079', 'bnf_name': 'Gliclazide_Tab 80mg', 'nic': 96.17, 'act_cost': 89.71, 'quantity': 3284}, {'bnf_code': '0601021M0AAAAAA', 'items': 13, 'practice': 'N81080', 'bnf_name': 'Gliclazide_Tab 80mg', 'nic': 20.93, 'act_cost': 20.04, 'quantity': 714}, {'bnf_code': '0601021M0AAAAAA', 'items': 21, 'practice': 'N81091', 'bnf_name': 'Gliclazide_Tab 80mg', 'nic': 49.52, 'act_cost': 46.8, 'quantity': 1691}, {'bnf_code': '0601021M0AAAAAA', 'items': 34, 'practice': 'N81093', 'bnf_name': 'Gliclazide_Tab 80mg', 'nic': 65.37, 'act_cost': 61.32, 'quantity': 2232}, {'bnf_code': '0601021M0AAAAAA', 'items': 11, 'practice': 'N81102', 'bnf_name': 'Gliclazide_Tab 80mg', 'nic': 15.93, 'act_cost': 14.98, 'quantity': 544}, {'bnf_code': '0601021M0AAAAAA', 'items': 6, 'practice': 'N81121', 'bnf_name': 'Gliclazide_Tab 80mg', 'nic': 12.53, 'act_cost': 11.77, 'quantity': 428}, {'bnf_code': '0601021M0AAAAAA', 'items': 56, 'practice': 'A81007', 'bnf_name': 'Gliclazide_Tab 80mg', 'nic': 181.22, 'act_cost': 168.46, 'quantity': 6188}, {'bnf_code': '0601021M0AAAAAA', 'items': 49, 'practice': 'A81011', 'bnf_name': 'Gliclazide_Tab 80mg', 'nic': 130.39, 'act_cost': 121.84, 'quantity': 4452}, {'bnf_code': '0601021M0AAAAAA', 'items': 132, 'practice': 'A81017', 'bnf_name': 'Gliclazide_Tab 80mg', 'nic': 246.04, 'act_cost': 232.09, 'quantity': 8398}, {'bnf_code': '0601021M0AAAAAA', 'items': 63, 'practice': 'A81031', 'bnf_name': 'Gliclazide_Tab 80mg', 'nic': 212.4, 'act_cost': 197.81, 'quantity': 7252}, {'bnf_code': '0601021M0AAAAAA', 'items': 207, 'practice': 'A81034', 'bnf_name': 'Gliclazide_Tab 80mg', 'nic': 489.18, 'act_cost': 457.02, 'quantity': 16704}, {'bnf_code': '0601021M0AAAAAA', 'items': 69, 'practice': 'A81040', 'bnf_name': 'Gliclazide_Tab 80mg', 'nic': 218.27, 'act_cost': 205.5, 'quantity': 7453}, {'bnf_code': '0601021M0AAAAAA', 'items': 44, 'practice': 'A81602', 'bnf_name': 'Gliclazide_Tab 80mg', 'nic': 114.39, 'act_cost': 106.64, 'quantity': 3906}, {'bnf_code': '0601021M0AAAAAA', 'items': 56, 'practice': 'A81610', 'bnf_name': 'Gliclazide_Tab 80mg', 'nic': 122.53, 'act_cost': 115.32, 'quantity': 4184}, {'bnf_code': '0601021M0AAAAAA', 'items': 37, 'practice': 'A81012', 'bnf_name': 'Gliclazide_Tab 80mg', 'nic': 55.8, 'act_cost': 53.12, 'quantity': 1904}, {'bnf_code': '0601021M0AAAAAA', 'items': 115, 'practice': 'A81018', 'bnf_name': 'Gliclazide_Tab 80mg', 'nic': 241.72, 'act_cost': 227.09, 'quantity': 8253}, {'bnf_code': '0601021M0AAAAAA', 'items': 35, 'practice': 'A81023', 'bnf_name': 'Gliclazide_Tab 80mg', 'nic': 97.7, 'act_cost': 91.28, 'quantity': 3336}, {'bnf_code': '0601021M0AAAAAA', 'items': 68, 'practice': 'A81029', 'bnf_name': 'Gliclazide_Tab 80mg', 'nic': 139.58, 'act_cost': 132.15, 'quantity': 4764}, {'bnf_code': '0601021M0AAAAAA', 'items': 24, 'practice': 'A81033', 'bnf_name': 'Gliclazide_Tab 80mg', 'nic': 45.29, 'act_cost': 42.73, 'quantity': 1554}, {'bnf_code': '0601021M0AAAAAA', 'items': 56, 'practice': 'A81037', 'bnf_name': 'Gliclazide_Tab 80mg', 'nic': 89.53, 'act_cost': 84.08, 'quantity': 3094}, {'bnf_code': '0601021M0AAAAAA', 'items': 33, 'practice': 'A81038', 'bnf_name': 'Gliclazide_Tab 80mg', 'nic': 63.16, 'act_cost': 59.89, 'quantity': 2156}, {'bnf_code': '0601021M0AAAAAA', 'items': 133, 'practice': 'A81049', 'bnf_name': 'Gliclazide_Tab 80mg', 'nic': 234.15, 'act_cost': 222.71, 'quantity': 7987}, {'bnf_code': '0601021M0AAAAAA', 'items': 91, 'practice': 'A81052', 'bnf_name': 'Gliclazide_Tab 80mg', 'nic': 195.51, 'act_cost': 182.72, 'quantity': 6676}, {'bnf_code': '0601021M0AAAAAA', 'items': 39, 'practice': 'A81064', 'bnf_name': 'Gliclazide_Tab 80mg', 'nic': 106.57, 'act_cost': 100.25, 'quantity': 3635}, {'bnf_code': '0601021M0AAAAAA', 'items': 64, 'practice': 'Y00286', 'bnf_name': 'Gliclazide_Tab 80mg', 'nic': 123.07, 'act_cost': 116.33, 'quantity': 4200}, {'bnf_code': '0601021M0AAAAAA', 'items': 41, 'practice': 'Y02483', 'bnf_name': 'Gliclazide_Tab 80mg', 'nic': 57.88, 'act_cost': 55.1, 'quantity': 1975}, {'bnf_code': '0601021M0AAAAAA', 'items': 1, 'practice': 'Y00675', 'bnf_name': 'Gliclazide_Tab 80mg', 'nic': 0.82, 'act_cost': 0.77, 'quantity': 28}, {'bnf_code': '0601021M0AAAAAA', 'items': 80, 'practice': 'P82002', 'bnf_name': 'Gliclazide_Tab 80mg', 'nic': 240.48, 'act_cost': 224.31, 'quantity': 8211}, {'bnf_code': '0601021M0AAAAAA', 'items': 47, 'practice': 'P82025', 'bnf_name': 'Gliclazide_Tab 80mg', 'nic': 136.89, 'act_cost': 127.4, 'quantity': 4702}, {'bnf_code': '0601021M0AAAAAA', 'items': 12, 'practice': 'P82625', 'bnf_name': 'Gliclazide_Tab 80mg', 'nic': 6.56, 'act_cost': 7.22, 'quantity': 224}, {'bnf_code': '0601021M0AAAAAA', 'items': 6, 'practice': 'P82629', 'bnf_name': 'Gliclazide_Tab 80mg', 'nic': 13.12, 'act_cost': 12.22, 'quantity': 448}, {'bnf_code': '0601021M0AAAAAA', 'items': 36, 'practice': 'P82640', 'bnf_name': 'Gliclazide_Tab 80mg', 'nic': 63.96, 'act_cost': 60.46, 'quantity': 2184}, {'bnf_code': '0601021M0AAAAAA', 'items': 58, 'practice': 'Y03079', 'bnf_name': 'Gliclazide_Tab 80mg', 'nic': 141.37, 'act_cost': 131.91, 'quantity': 4817}, {'bnf_code': '0601021M0AAAAAA', 'items': 14, 'practice': 'Y03366', 'bnf_name': 'Gliclazide_Tab 80mg', 'nic': 23.06, 'act_cost': 21.53, 'quantity': 784}, {'bnf_code': '0601021M0AAAAAA', 'items': 50, 'practice': 'P83005', 'bnf_name': 'Gliclazide_Tab 80mg', 'nic': 126.96, 'act_cost': 119.16, 'quantity': 4336}, {'bnf_code': '0601021M0AAAAAA', 'items': 25, 'practice': 'P83007', 'bnf_name': 'Gliclazide_Tab 80mg', 'nic': 82.0, 'act_cost': 76.22, 'quantity': 2800}, {'bnf_code': '0601021M0AAAAAA', 'items': 27, 'practice': 'P83008', 'bnf_name': 'Gliclazide_Tab 80mg', 'nic': 91.02, 'act_cost': 84.61, 'quantity': 3108}, {'bnf_code': '0601021M0AAAAAA', 'items': 63, 'practice': 'P83015', 'bnf_name': 'Gliclazide_Tab 80mg', 'nic': 166.72, 'act_cost': 155.5, 'quantity': 5693}, {'bnf_code': '0601021M0AAAAAA', 'items': 13, 'practice': 'P83019', 'bnf_name': 'Gliclazide_Tab 80mg', 'nic': 35.26, 'act_cost': 32.82, 'quantity': 1204}, {'bnf_code': '0601021M0AAAAAA', 'items': 15, 'practice': 'P83020', 'bnf_name': 'Gliclazide_Tab 80mg', 'nic': 39.36, 'act_cost': 36.63, 'quantity': 1344}, {'bnf_code': '0601021M0AAAAAA', 'items': 57, 'practice': 'P83021', 'bnf_name': 'Gliclazide_Tab 80mg', 'nic': 105.73, 'act_cost': 98.99, 'quantity': 3610}, {'bnf_code': '0601021M0AAAAAA', 'items': 64, 'practice': 'P83603', 'bnf_name': 'Gliclazide_Tab 80mg', 'nic': 150.57, 'act_cost': 140.59, 'quantity': 5141}, {'bnf_code': '0601021M0AAAAAA', 'items': 15, 'practice': 'Y02660', 'bnf_name': 'Gliclazide_Tab 80mg', 'nic': 34.0, 'act_cost': 31.86, 'quantity': 1161}, {'bnf_code': '0601021M0AAAAAA', 'items': 9, 'practice': 'Y02755', 'bnf_name': 'Gliclazide_Tab 80mg', 'nic': 19.68, 'act_cost': 18.33, 'quantity': 672}, {'bnf_code': '0601021M0AAAAAA', 'items': 145, 'practice': 'P85003', 'bnf_name': 'Gliclazide_Tab 80mg', 'nic': 265.87, 'act_cost': 255.02, 'quantity': 9073}, {'bnf_code': '0601021M0AAAAAA', 'items': 35, 'practice': 'P85007', 'bnf_name': 'Gliclazide_Tab 80mg', 'nic': 53.94, 'act_cost': 51.67, 'quantity': 1842}, {'bnf_code': '0601021M0AAAAAA', 'items': 102, 'practice': 'P85008', 'bnf_name': 'Gliclazide_Tab 80mg', 'nic': 221.45, 'act_cost': 208.37, 'quantity': 7561}, {'bnf_code': '0601021M0AAAAAA', 'items': 24, 'practice': 'P85015', 'bnf_name': 'Gliclazide_Tab 80mg', 'nic': 59.04, 'act_cost': 54.95, 'quantity': 2016}, {'bnf_code': '0601021M0AAAAAA', 'items': 49, 'practice': 'P85018', 'bnf_name': 'Gliclazide_Tab 80mg', 'nic': 119.48, 'act_cost': 111.5, 'quantity': 4080}, {'bnf_code': '0601021M0AAAAAA', 'items': 100, 'practice': 'P85025', 'bnf_name': 'Gliclazide_Tab 80mg', 'nic': 281.59, 'act_cost': 262.92, 'quantity': 9616}, {'bnf_code': '0601021M0AAAAAA', 'items': 20, 'practice': 'P85026', 'bnf_name': 'Gliclazide_Tab 80mg', 'nic': 44.75, 'act_cost': 41.97, 'quantity': 1528}, {'bnf_code': '0601021M0AAAAAA', 'items': 13, 'practice': 'P85601', 'bnf_name': 'Gliclazide_Tab 80mg', 'nic': 29.64, 'act_cost': 27.69, 'quantity': 1012}, {'bnf_code': '0601021M0AAAAAA', 'items': 41, 'practice': 'P85608', 'bnf_name': 'Gliclazide_Tab 80mg', 'nic': 92.66, 'act_cost': 86.3, 'quantity': 3164}, {'bnf_code': '0601021M0AAAAAA', 'items': 24, 'practice': 'P85610', 'bnf_name': 'Gliclazide_Tab 80mg', 'nic': 41.77, 'act_cost': 39.77, 'quantity': 1426}, {'bnf_code': '0601021M0AAAAAA', 'items': 23, 'practice': 'P85613', 'bnf_name': 'Gliclazide_Tab 80mg', 'nic': 48.38, 'act_cost': 45.08, 'quantity': 1652}, {'bnf_code': '0601021M0AAAAAA', 'items': 112, 'practice': 'P85615', 'bnf_name': 'Gliclazide_Tab 80mg', 'nic': 260.87, 'act_cost': 243.68, 'quantity': 8908}, {'bnf_code': '0601021M0AAAAAA', 'items': 23, 'practice': 'P85621', 'bnf_name': 'Gliclazide_Tab 80mg', 'nic': 53.3, 'act_cost': 49.63, 'quantity': 1820}, {'bnf_code': '0601021M0AAAAAA', 'items': 50, 'practice': 'P85622', 'bnf_name': 'Gliclazide_Tab 80mg', 'nic': 121.0, 'act_cost': 114.64, 'quantity': 4130}, {'bnf_code': '0601021M0AAAAAA', 'items': 85, 'practice': 'Y01124', 'bnf_name': 'Gliclazide_Tab 80mg', 'nic': 172.43, 'act_cost': 162.08, 'quantity': 5886}, {'bnf_code': '0601021M0AAAAAA', 'items': 20, 'practice': 'Y02875', 'bnf_name': 'Gliclazide_Tab 80mg', 'nic': 40.42, 'act_cost': 37.86, 'quantity': 1380}, {'bnf_code': '0601021M0AAAAAA', 'items': 14, 'practice': 'P86002', 'bnf_name': 'Gliclazide_Tab 80mg', 'nic': 29.17, 'act_cost': 27.47, 'quantity': 996}, {'bnf_code': '0601021M0AAAAAA', 'items': 37, 'practice': 'P86609', 'bnf_name': 'Gliclazide_Tab 80mg', 'nic': 74.39, 'act_cost': 69.62, 'quantity': 2540}, {'bnf_code': '0601021M0AAAAAA', 'items': 105, 'practice': 'P86614', 'bnf_name': 'Gliclazide_Tab 80mg', 'nic': 327.34, 'act_cost': 311.82, 'quantity': 11180}, {'bnf_code': '0601021M0AAAAAA', 'items': 77, 'practice': 'P86619', 'bnf_name': 'Gliclazide_Tab 80mg', 'nic': 167.96, 'act_cost': 159.64, 'quantity': 5736}, {'bnf_code': '0601021M0AAAAAA', 'items': 26, 'practice': 'P87003', 'bnf_name': 'Gliclazide_Tab 80mg', 'nic': 46.95, 'act_cost': 44.3, 'quantity': 1603}, {'bnf_code': '0601021M0AAAAAA', 'items': 36, 'practice': 'P87020', 'bnf_name': 'Gliclazide_Tab 80mg', 'nic': 66.01, 'act_cost': 62.76, 'quantity': 2254}, {'bnf_code': '0601021M0AAAAAA', 'items': 18, 'practice': 'P87659', 'bnf_name': 'Gliclazide_Tab 80mg', 'nic': 21.29, 'act_cost': 21.14, 'quantity': 725}, {'bnf_code': '0601021M0AAAAAA', 'items': 46, 'practice': 'P84032', 'bnf_name': 'Gliclazide_Tab 80mg', 'nic': 107.74, 'act_cost': 101.3, 'quantity': 3678}, {'bnf_code': '0601021M0AAAAAA', 'items': 16, 'practice': 'P84051', 'bnf_name': 'Gliclazide_Tab 80mg', 'nic': 26.24, 'act_cost': 24.49, 'quantity': 896}, {'bnf_code': '0601021M0AAAAAA', 'items': 12, 'practice': 'P84637', 'bnf_name': 'Gliclazide_Tab 80mg', 'nic': 22.37, 'act_cost': 20.96, 'quantity': 764}, {'bnf_code': '0601021M0AAAAAA', 'items': 27, 'practice': 'P88009', 'bnf_name': 'Gliclazide_Tab 80mg', 'nic': 57.52, 'act_cost': 53.88, 'quantity': 1964}, {'bnf_code': '0601021M0AAAAAA', 'items': 72, 'practice': 'P88019', 'bnf_name': 'Gliclazide_Tab 80mg', 'nic': 94.7, 'act_cost': 90.66, 'quantity': 3231}, {'bnf_code': '0601021M0AAAAAA', 'items': 13, 'practice': 'P88624', 'bnf_name': 'Gliclazide_Tab 80mg', 'nic': 33.62, 'act_cost': 31.29, 'quantity': 1148}, {'bnf_code': '0601021M0AAAAAA', 'items': 46, 'practice': 'P88625', 'bnf_name': 'Gliclazide_Tab 80mg', 'nic': 76.26, 'act_cost': 71.77, 'quantity': 2604}, {'bnf_code': '0601021M0AAAAAA', 'items': 27, 'practice': 'P92005', 'bnf_name': 'Gliclazide_Tab 80mg', 'nic': 105.65, 'act_cost': 98.74, 'quantity': 3608}, {'bnf_code': '0601021M0AAAAAA', 'items': 86, 'practice': 'P92006', 'bnf_name': 'Gliclazide_Tab 80mg', 'nic': 312.89, 'act_cost': 291.13, 'quantity': 10684}, {'bnf_code': '0601021M0AAAAAA', 'items': 10, 'practice': 'P92024', 'bnf_name': 'Gliclazide_Tab 80mg', 'nic': 38.19, 'act_cost': 35.58, 'quantity': 1304}, {'bnf_code': '0601021M0AAAAAA', 'items': 20, 'practice': 'P92031', 'bnf_name': 'Gliclazide_Tab 80mg', 'nic': 44.51, 'act_cost': 41.55, 'quantity': 1520}, {'bnf_code': '0601021M0AAAAAA', 'items': 13, 'practice': 'P92035', 'bnf_name': 'Gliclazide_Tab 80mg', 'nic': 31.98, 'act_cost': 29.76, 'quantity': 1092}, {'bnf_code': '0601021M0AAAAAA', 'items': 16, 'practice': 'P92602', 'bnf_name': 'Gliclazide_Tab 80mg', 'nic': 45.92, 'act_cost': 42.71, 'quantity': 1568}, {'bnf_code': '0601021M0AAAAAA', 'items': 76, 'practice': 'P92607', 'bnf_name': 'Gliclazide_Tab 80mg', 'nic': 211.11, 'act_cost': 196.88, 'quantity': 7052}, {'bnf_code': '0601021M0AAAAAA', 'items': 27, 'practice': 'P92615', 'bnf_name': 'Gliclazide_Tab 80mg', 'nic': 64.09, 'act_cost': 60.26, 'quantity': 2188}, {'bnf_code': '0601021M0AAAAAA', 'items': 7, 'practice': 'P92621', 'bnf_name': 'Gliclazide_Tab 80mg', 'nic': 36.43, 'act_cost': 33.92, 'quantity': 1244}, {'bnf_code': '0601021M0AAAAAA', 'items': 29, 'practice': 'P92623', 'bnf_name': 'Gliclazide_Tab 80mg', 'nic': 84.22, 'act_cost': 78.62, 'quantity': 2876}, {'bnf_code': '0601021M0AAAAAA', 'items': 22, 'practice': 'P92642', 'bnf_name': 'Gliclazide_Tab 80mg', 'nic': 66.48, 'act_cost': 62.62, 'quantity': 2270}, {'bnf_code': '0601021M0AAAAAA', 'items': 21, 'practice': 'P92647', 'bnf_name': 'Gliclazide_Tab 80mg', 'nic': 51.0, 'act_cost': 48.08, 'quantity': 1742}, {'bnf_code': '0601021M0AAAAAA', 'items': 30, 'practice': 'P92653', 'bnf_name': 'Gliclazide_Tab 80mg', 'nic': 53.71, 'act_cost': 50.6, 'quantity': 1834}, {'bnf_code': '0601021M0AAAAAA', 'items': 13, 'practice': 'Y00050', 'bnf_name': 'Gliclazide_Tab 80mg', 'nic': 38.13, 'act_cost': 35.55, 'quantity': 1302}, {'bnf_code': '0601021M0AAAAAA', 'items': 24, 'practice': 'Y02274', 'bnf_name': 'Gliclazide_Tab 80mg', 'nic': 46.74, 'act_cost': 43.56, 'quantity': 1596}, {'bnf_code': '0601021M0AAAAAA', 'items': 37, 'practice': 'Y02322', 'bnf_name': 'Gliclazide_Tab 80mg', 'nic': 84.39, 'act_cost': 79.09, 'quantity': 2881}, {'bnf_code': '0601021M0AAAAAA', 'items': 76, 'practice': 'P81051', 'bnf_name': 'Gliclazide_Tab 80mg', 'nic': 166.36, 'act_cost': 155.44, 'quantity': 5680}, {'bnf_code': '0601021M0AAAAAA', 'items': 103, 'practice': 'P81125', 'bnf_name': 'Gliclazide_Tab 80mg', 'nic': 202.89, 'act_cost': 191.23, 'quantity': 6927}, {'bnf_code': '0601021M0AAAAAA', 'items': 110, 'practice': 'P81140', 'bnf_name': 'Gliclazide_Tab 80mg', 'nic': 208.08, 'act_cost': 196.26, 'quantity': 7104}, {'bnf_code': '0601021M0AAAAAA', 'items': 77, 'practice': 'P81607', 'bnf_name': 'Gliclazide_Tab 80mg', 'nic': 191.88, 'act_cost': 178.59, 'quantity': 6552}, {'bnf_code': '0601021M0AAAAAA', 'items': 23, 'practice': 'P81694', 'bnf_name': 'Gliclazide_Tab 80mg', 'nic': 30.16, 'act_cost': 28.91, 'quantity': 1030}, {'bnf_code': '0601021M0AAAAAA', 'items': 31, 'practice': 'P81712', 'bnf_name': 'Gliclazide_Tab 80mg', 'nic': 69.57, 'act_cost': 65.29, 'quantity': 2376}, {'bnf_code': '0601021M0AAAAAA', 'items': 169, 'practice': 'P81072', 'bnf_name': 'Gliclazide_Tab 80mg', 'nic': 255.21, 'act_cost': 240.95, 'quantity': 8714}, {'bnf_code': '0601021M0AAAAAA', 'items': 235, 'practice': 'P81074', 'bnf_name': 'Gliclazide_Tab 80mg', 'nic': 417.41, 'act_cost': 397.8, 'quantity': 14249}, {'bnf_code': '0601021M0AAAAAA', 'items': 15, 'practice': 'P81159', 'bnf_name': 'Gliclazide_Tab 80mg', 'nic': 32.1, 'act_cost': 30.0, 'quantity': 1096}, {'bnf_code': '0601021M0AAAAAA', 'items': 112, 'practice': 'P81681', 'bnf_name': 'Gliclazide_Tab 80mg', 'nic': 147.29, 'act_cost': 140.46, 'quantity': 5028}, {'bnf_code': '0601021M0AAAAAA', 'items': 65, 'practice': 'P81684', 'bnf_name': 'Gliclazide_Tab 80mg', 'nic': 134.16, 'act_cost': 126.31, 'quantity': 4582}, {'bnf_code': '0601021M0AAAAAA', 'items': 24, 'practice': 'P81020', 'bnf_name': 'Gliclazide_Tab 80mg', 'nic': 42.01, 'act_cost': 39.79, 'quantity': 1434}, {'bnf_code': '0601021M0AAAAAA', 'items': 40, 'practice': 'P81025', 'bnf_name': 'Gliclazide_Tab 80mg', 'nic': 80.01, 'act_cost': 75.04, 'quantity': 2732}, {'bnf_code': '0601021M0AAAAAA', 'items': 87, 'practice': 'P81032', 'bnf_name': 'Gliclazide_Tab 80mg', 'nic': 208.53, 'act_cost': 195.23, 'quantity': 7120}, {'bnf_code': '0601021M0AAAAAA', 'items': 75, 'practice': 'P81069', 'bnf_name': 'Gliclazide_Tab 80mg', 'nic': 184.64, 'act_cost': 172.2, 'quantity': 6304}, {'bnf_code': '0601021M0AAAAAA', 'items': 66, 'practice': 'P81099', 'bnf_name': 'Gliclazide_Tab 80mg', 'nic': 113.76, 'act_cost': 109.91, 'quantity': 3883}, {'bnf_code': '0601021M0AAAAAA', 'items': 134, 'practice': 'P81100', 'bnf_name': 'Gliclazide_Tab 80mg', 'nic': 287.05, 'act_cost': 269.31, 'quantity': 9801}, {'bnf_code': '0601021M0AAAAAA', 'items': 158, 'practice': 'P81123', 'bnf_name': 'Gliclazide_Tab 80mg', 'nic': 299.35, 'act_cost': 282.77, 'quantity': 10219}, {'bnf_code': '0601021M0AAAAAA', 'items': 80, 'practice': 'P81170', 'bnf_name': 'Gliclazide_Tab 80mg', 'nic': 170.86, 'act_cost': 160.78, 'quantity': 5834}, {'bnf_code': '0601021M0AAAAAA', 'items': 44, 'practice': 'P81212', 'bnf_name': 'Gliclazide_Tab 80mg', 'nic': 121.57, 'act_cost': 115.3, 'quantity': 4152}, {'bnf_code': '0601021M0AAAAAA', 'items': 25, 'practice': 'P81215', 'bnf_name': 'Gliclazide_Tab 80mg', 'nic': 49.2, 'act_cost': 46.05, 'quantity': 1680}, {'bnf_code': '0601021M0AAAAAA', 'items': 24, 'practice': 'P81686', 'bnf_name': 'Gliclazide_Tab 80mg', 'nic': 42.42, 'act_cost': 40.08, 'quantity': 1448}, {'bnf_code': '0601021M0AAAAAA', 'items': 34, 'practice': 'P81731', 'bnf_name': 'Gliclazide_Tab 80mg', 'nic': 58.05, 'act_cost': 55.16, 'quantity': 1981}, {'bnf_code': '0601021M0AAAAAA', 'items': 20, 'practice': 'P81736', 'bnf_name': 'Gliclazide_Tab 80mg', 'nic': 50.0, 'act_cost': 47.52, 'quantity': 1708}, {'bnf_code': '0601021M0AAAAAA', 'items': 8, 'practice': 'P81778', 'bnf_name': 'Gliclazide_Tab 80mg', 'nic': 15.7, 'act_cost': 14.73, 'quantity': 536}, {'bnf_code': '0601021M0AAAAAA', 'items': 31, 'practice': 'P81780', 'bnf_name': 'Gliclazide_Tab 80mg', 'nic': 54.13, 'act_cost': 51.1, 'quantity': 1848}, {'bnf_code': '0601021M0AAAAAA', 'items': 73, 'practice': 'P81002', 'bnf_name': 'Gliclazide_Tab 80mg', 'nic': 237.03, 'act_cost': 221.05, 'quantity': 8093}, {'bnf_code': '0601021M0AAAAAA', 'items': 115, 'practice': 'P81056', 'bnf_name': 'Gliclazide_Tab 80mg', 'nic': 246.81, 'act_cost': 231.39, 'quantity': 8428}, {'bnf_code': '0601021M0AAAAAA', 'items': 16, 'practice': 'P81091', 'bnf_name': 'Gliclazide_Tab 80mg', 'nic': 37.43, 'act_cost': 35.64, 'quantity': 1278}, {'bnf_code': '0601021M0AAAAAA', 'items': 86, 'practice': 'P81079', 'bnf_name': 'Gliclazide_Tab 80mg', 'nic': 129.47, 'act_cost': 123.15, 'quantity': 4418}, {'bnf_code': '0601021M0AAAAAA', 'items': 136, 'practice': 'P81086', 'bnf_name': 'Gliclazide_Tab 80mg', 'nic': 292.32, 'act_cost': 273.39, 'quantity': 9981}, {'bnf_code': '0601021M0AAAAAA', 'items': 44, 'practice': 'P81133', 'bnf_name': 'Gliclazide_Tab 80mg', 'nic': 64.88, 'act_cost': 62.2, 'quantity': 2214}, {'bnf_code': '0601021M0AAAAAA', 'items': 53, 'practice': 'P81668', 'bnf_name': 'Gliclazide_Tab 80mg', 'nic': 102.71, 'act_cost': 96.63, 'quantity': 3506}, {'bnf_code': '0601021M0AAAAAA', 'items': 29, 'practice': 'P81690', 'bnf_name': 'Gliclazide_Tab 80mg', 'nic': 50.96, 'act_cost': 47.63, 'quantity': 1740}, {'bnf_code': '0601021M0AAAAAA', 'items': 105, 'practice': 'N81057', 'bnf_name': 'Gliclazide_Tab 80mg', 'nic': 221.82, 'act_cost': 208.35, 'quantity': 7574}, {'bnf_code': '0601021M0AAAAAA', 'items': 112, 'practice': 'N81066', 'bnf_name': 'Gliclazide_Tab 80mg', 'nic': 282.84, 'act_cost': 264.03, 'quantity': 9658}, {'bnf_code': '0601021M0AAAAAA', 'items': 44, 'practice': 'N83015', 'bnf_name': 'Gliclazide_Tab 80mg', 'nic': 105.63, 'act_cost': 99.04, 'quantity': 3606}, {'bnf_code': '0601021M0AAAAAA', 'items': 17, 'practice': 'N83610', 'bnf_name': 'Gliclazide_Tab 80mg', 'nic': 33.28, 'act_cost': 31.42, 'quantity': 1136}, {'bnf_code': '0601021M0AAAAAA', 'items': 46, 'practice': 'N83621', 'bnf_name': 'Gliclazide_Tab 80mg', 'nic': 78.43, 'act_cost': 73.78, 'quantity': 2678}, {'bnf_code': '0601021M0AAAAAA', 'items': 20, 'practice': 'N83622', 'bnf_name': 'Gliclazide_Tab 80mg', 'nic': 41.06, 'act_cost': 38.46, 'quantity': 1402}, {'bnf_code': '0601021M0AAAAAA', 'items': 52, 'practice': 'N84010', 'bnf_name': 'Gliclazide_Tab 80mg', 'nic': 108.94, 'act_cost': 102.6, 'quantity': 3720}, {'bnf_code': '0601021M0AAAAAA', 'items': 59, 'practice': 'N84025', 'bnf_name': 'Gliclazide_Tab 80mg', 'nic': 132.04, 'act_cost': 124.26, 'quantity': 4508}, {'bnf_code': '0601021M0AAAAAA', 'items': 12, 'practice': 'Y00446', 'bnf_name': 'Gliclazide_Tab 80mg', 'nic': 25.66, 'act_cost': 24.1, 'quantity': 876}, {'bnf_code': '0601021M0AAAAAA', 'items': 32, 'practice': 'N83003', 'bnf_name': 'Gliclazide_Tab 80mg', 'nic': 85.64, 'act_cost': 79.98, 'quantity': 2924}, {'bnf_code': '0601021M0AAAAAA', 'items': 65, 'practice': 'N83023', 'bnf_name': 'Gliclazide_Tab 80mg', 'nic': 144.03, 'act_cost': 134.94, 'quantity': 4918}, {'bnf_code': '0601021M0AAAAAA', 'items': 23, 'practice': 'N83026', 'bnf_name': 'Gliclazide_Tab 80mg', 'nic': 53.12, 'act_cost': 49.97, 'quantity': 1813}, {'bnf_code': '0601021M0AAAAAA', 'items': 35, 'practice': 'N83027', 'bnf_name': 'Gliclazide_Tab 80mg', 'nic': 77.9, 'act_cost': 73.14, 'quantity': 2660}, {'bnf_code': '0601021M0AAAAAA', 'items': 50, 'practice': 'N83060', 'bnf_name': 'Gliclazide_Tab 80mg', 'nic': 111.73, 'act_cost': 104.45, 'quantity': 3815}, {'bnf_code': '0601021M0AAAAAA', 'items': 32, 'practice': 'N83604', 'bnf_name': 'Gliclazide_Tab 80mg', 'nic': 66.64, 'act_cost': 62.89, 'quantity': 2275}, {'bnf_code': '0601021M0AAAAAA', 'items': 41, 'practice': 'N83637', 'bnf_name': 'Gliclazide_Tab 80mg', 'nic': 92.41, 'act_cost': 86.75, 'quantity': 3156}, {'bnf_code': '0601021M0AAAAAA', 'items': 38, 'practice': 'N82065', 'bnf_name': 'Gliclazide_Tab 80mg', 'nic': 55.78, 'act_cost': 53.32, 'quantity': 1904}, {'bnf_code': '0601021M0AAAAAA', 'items': 14, 'practice': 'N82089', 'bnf_name': 'Gliclazide_Tab 80mg', 'nic': 18.98, 'act_cost': 17.84, 'quantity': 648}, {'bnf_code': '0601021M0AAAAAA', 'items': 18, 'practice': 'N82099', 'bnf_name': 'Gliclazide_Tab 80mg', 'nic': 22.67, 'act_cost': 21.4, 'quantity': 774}, {'bnf_code': '0601021M0AAAAAA', 'items': 7, 'practice': 'N82623', 'bnf_name': 'Gliclazide_Tab 80mg', 'nic': 14.76, 'act_cost': 13.75, 'quantity': 504}, {'bnf_code': '0601021M0AAAAAA', 'items': 43, 'practice': 'N82646', 'bnf_name': 'Gliclazide_Tab 80mg', 'nic': 86.69, 'act_cost': 81.2, 'quantity': 2960}, {'bnf_code': '0601021M0AAAAAA', 'items': 35, 'practice': 'N82662', 'bnf_name': 'Gliclazide_Tab 80mg', 'nic': 69.73, 'act_cost': 66.27, 'quantity': 2379}, {'bnf_code': '0601021M0AAAAAA', 'items': 8, 'practice': 'N82669', 'bnf_name': 'Gliclazide_Tab 80mg', 'nic': 14.41, 'act_cost': 13.74, 'quantity': 492}, {'bnf_code': '0601021M0AAAAAA', 'items': 188, 'practice': 'A84009', 'bnf_name': 'Gliclazide_Tab 80mg', 'nic': 459.14, 'act_cost': 431.18, 'quantity': 15677}, {'bnf_code': '0601021M0AAAAAA', 'items': 121, 'practice': 'A84014', 'bnf_name': 'Gliclazide_Tab 80mg', 'nic': 390.32, 'act_cost': 367.07, 'quantity': 13327}, {'bnf_code': '0601021M0AAAAAA', 'items': 69, 'practice': 'Y00151', 'bnf_name': 'Gliclazide_Tab 80mg', 'nic': 131.56, 'act_cost': 122.85, 'quantity': 4492}, {'bnf_code': '0601021M0AAAAAA', 'items': 8, 'practice': 'A88011', 'bnf_name': 'Gliclazide_Tab 80mg', 'nic': 31.63, 'act_cost': 29.48, 'quantity': 1080}, {'bnf_code': '0601021M0AAAAAA', 'items': 62, 'practice': 'A89003', 'bnf_name': 'Gliclazide_Tab 80mg', 'nic': 110.31, 'act_cost': 104.9, 'quantity': 3766}, {'bnf_code': '0601021M0AAAAAA', 'items': 19, 'practice': 'A89006', 'bnf_name': 'Gliclazide_Tab 80mg', 'nic': 31.79, 'act_cost': 29.97, 'quantity': 1085}, {'bnf_code': '0601021M0AAAAAA', 'items': 77, 'practice': 'A89007', 'bnf_name': 'Gliclazide_Tab 80mg', 'nic': 105.14, 'act_cost': 101.89, 'quantity': 3588}, {'bnf_code': '0601021M0AAAAAA', 'items': 136, 'practice': 'A89010', 'bnf_name': 'Gliclazide_Tab 80mg', 'nic': 243.49, 'act_cost': 234.38, 'quantity': 8308}, {'bnf_code': '0601021M0AAAAAA', 'items': 80, 'practice': 'A89012', 'bnf_name': 'Gliclazide_Tab 80mg', 'nic': 72.41, 'act_cost': 71.73, 'quantity': 2467}, {'bnf_code': '0601021M0AAAAAA', 'items': 190, 'practice': 'A89019', 'bnf_name': 'Gliclazide_Tab 80mg', 'nic': 398.96, 'act_cost': 375.5, 'quantity': 13621}, {'bnf_code': '0601021M0AAAAAA', 'items': 20, 'practice': 'A89022', 'bnf_name': 'Gliclazide_Tab 80mg', 'nic': 23.0, 'act_cost': 22.75, 'quantity': 784}, {'bnf_code': '0601021M0AAAAAA', 'items': 140, 'practice': 'A89025', 'bnf_name': 'Gliclazide_Tab 80mg', 'nic': 246.19, 'act_cost': 232.55, 'quantity': 8402}, {'bnf_code': '0601021M0AAAAAA', 'items': 9, 'practice': 'A89026', 'bnf_name': 'Gliclazide_Tab 80mg', 'nic': 9.43, 'act_cost': 8.93, 'quantity': 322}, {'bnf_code': '0601021M0AAAAAA', 'items': 36, 'practice': 'A89031', 'bnf_name': 'Gliclazide_Tab 80mg', 'nic': 35.34, 'act_cost': 35.46, 'quantity': 1206}, {'bnf_code': '0601021M0AAAAAA', 'items': 11, 'practice': 'A89603', 'bnf_name': 'Gliclazide_Tab 80mg', 'nic': 17.86, 'act_cost': 17.27, 'quantity': 610}, {'bnf_code': '0601021M0AAAAAA', 'items': 31, 'practice': 'A89604', 'bnf_name': 'Gliclazide_Tab 80mg', 'nic': 24.5, 'act_cost': 24.07, 'quantity': 835}, {'bnf_code': '0601021M0AAAAAA', 'items': 78, 'practice': 'A89620', 'bnf_name': 'Gliclazide_Tab 80mg', 'nic': 126.88, 'act_cost': 121.24, 'quantity': 4331}, {'bnf_code': '0601021M0AAAAAA', 'items': 3, 'practice': 'A89621', 'bnf_name': 'Gliclazide_Tab 80mg', 'nic': 0.36, 'act_cost': 0.67, 'quantity': 12}, {'bnf_code': '0601021M0AAAAAA', 'items': 40, 'practice': 'A89624', 'bnf_name': 'Gliclazide_Tab 80mg', 'nic': 46.15, 'act_cost': 44.32, 'quantity': 1575}, {'bnf_code': '0601021M0AAAAAA', 'items': 39, 'practice': 'Y05438', 'bnf_name': 'Gliclazide_Tab 80mg', 'nic': 72.61, 'act_cost': 69.0, 'quantity': 2479}, {'bnf_code': '0601021M0AAAAAA', 'items': 1, 'practice': 'Y05439', 'bnf_name': 'Gliclazide_Tab 80mg', 'nic': 0.41, 'act_cost': 0.49, 'quantity': 14}, {'bnf_code': '0601021M0AAAAAA', 'items': 79, 'practice': 'A85009', 'bnf_name': 'Gliclazide_Tab 80mg', 'nic': 175.23, 'act_cost': 164.29, 'quantity': 5984}, {'bnf_code': '0601021M0AAAAAA', 'items': 76, 'practice': 'A85011', 'bnf_name': 'Gliclazide_Tab 80mg', 'nic': 120.16, 'act_cost': 114.19, 'quantity': 4101}, {'bnf_code': '0601021M0AAAAAA', 'items': 53, 'practice': 'B81014', 'bnf_name': 'Gliclazide_Tab 80mg', 'nic': 115.87, 'act_cost': 108.42, 'quantity': 4026}, {'bnf_code': '0601021M0AAAAAA', 'items': 117, 'practice': 'B81069', 'bnf_name': 'Gliclazide_Tab 80mg', 'nic': 292.8, 'act_cost': 273.31, 'quantity': 9998}, {'bnf_code': '0601021M0AAAAAA', 'items': 46, 'practice': 'B81070', 'bnf_name': 'Gliclazide_Tab 80mg', 'nic': 100.04, 'act_cost': 93.17, 'quantity': 3416}, {'bnf_code': '0601021M0AAAAAA', 'items': 8, 'practice': 'B82016', 'bnf_name': 'Gliclazide_Tab 80mg', 'nic': 33.62, 'act_cost': 31.24, 'quantity': 1148}, {'bnf_code': '0601021M0AAAAAA', 'items': 32, 'practice': 'B82027', 'bnf_name': 'Gliclazide_Tab 80mg', 'nic': 83.0, 'act_cost': 78.13, 'quantity': 2834}, {'bnf_code': '0601021M0AAAAAA', 'items': 14, 'practice': 'B82091', 'bnf_name': 'Gliclazide_Tab 80mg', 'nic': 33.38, 'act_cost': 31.37, 'quantity': 1140}, {'bnf_code': '0601021M0AAAAAA', 'items': 50, 'practice': 'B81002', 'bnf_name': 'Gliclazide_Tab 80mg', 'nic': 73.58, 'act_cost': 70.64, 'quantity': 2512}, {'bnf_code': '0601021M0AAAAAA', 'items': 58, 'practice': 'B81112', 'bnf_name': 'Gliclazide_Tab 80mg', 'nic': 82.69, 'act_cost': 78.36, 'quantity': 2823}, {'bnf_code': '0601021M0AAAAAA', 'items': 47, 'practice': 'B81119', 'bnf_name': 'Gliclazide_Tab 80mg', 'nic': 89.05, 'act_cost': 83.63, 'quantity': 3040}, {'bnf_code': '0601021M0AAAAAA', 'items': 42, 'practice': 'B81616', 'bnf_name': 'Gliclazide_Tab 80mg', 'nic': 70.78, 'act_cost': 67.64, 'quantity': 2416}, {'bnf_code': '0601021M0AAAAAA', 'items': 3, 'practice': 'B81688', 'bnf_name': 'Gliclazide_Tab 80mg', 'nic': 5.74, 'act_cost': 5.35, 'quantity': 196}, {'bnf_code': '0601021M0AAAAAA', 'items': 42, 'practice': 'Y02344', 'bnf_name': 'Gliclazide_Tab 80mg', 'nic': 42.86, 'act_cost': 42.6, 'quantity': 1478}, {'bnf_code': '0601021M0AAAAAA', 'items': 140, 'practice': 'B81031', 'bnf_name': 'Gliclazide_Tab 80mg', 'nic': 386.23, 'act_cost': 367.07, 'quantity': 13194}, {'bnf_code': '0601021M0AAAAAA', 'items': 49, 'practice': 'B81077', 'bnf_name': 'Gliclazide_Tab 80mg', 'nic': 79.16, 'act_cost': 75.8, 'quantity': 2701}, {'bnf_code': '0601021M0AAAAAA', 'items': 35, 'practice': 'B81091', 'bnf_name': 'Gliclazide_Tab 80mg', 'nic': 146.99, 'act_cost': 137.91, 'quantity': 5020}, {'bnf_code': '0601021M0AAAAAA', 'items': 15, 'practice': 'B81655', 'bnf_name': 'Gliclazide_Tab 80mg', 'nic': 39.36, 'act_cost': 36.62, 'quantity': 1344}, {'bnf_code': '0601021M0AAAAAA', 'items': 53, 'practice': 'C85001', 'bnf_name': 'Gliclazide_Tab 80mg', 'nic': 108.71, 'act_cost': 101.6, 'quantity': 3712}, {'bnf_code': '0601021M0AAAAAA', 'items': 111, 'practice': 'C85008', 'bnf_name': 'Gliclazide_Tab 80mg', 'nic': 216.25, 'act_cost': 203.55, 'quantity': 7384}, {'bnf_code': '0601021M0AAAAAA', 'items': 143, 'practice': 'C85022', 'bnf_name': 'Gliclazide_Tab 80mg', 'nic': 212.34, 'act_cost': 202.71, 'quantity': 7247}, {'bnf_code': '0601021M0AAAAAA', 'items': 78, 'practice': 'C85023', 'bnf_name': 'Gliclazide_Tab 80mg', 'nic': 158.45, 'act_cost': 149.14, 'quantity': 5410}, {'bnf_code': '0601021M0AAAAAA', 'items': 5, 'practice': 'Y04809', 'bnf_name': 'Gliclazide_Tab 80mg', 'nic': 9.84, 'act_cost': 9.17, 'quantity': 336}, {'bnf_code': '0601021M0AAAAAA', 'items': 87, 'practice': 'C84013', 'bnf_name': 'Gliclazide_Tab 80mg', 'nic': 170.03, 'act_cost': 160.07, 'quantity': 5842}, {'bnf_code': '0601021M0AAAAAA', 'items': 75, 'practice': 'C84035', 'bnf_name': 'Gliclazide_Tab 80mg', 'nic': 232.7, 'act_cost': 216.54, 'quantity': 7946}, {'bnf_code': '0601021M0AAAAAA', 'items': 139, 'practice': 'C87005', 'bnf_name': 'Gliclazide_Tab 80mg', 'nic': 361.61, 'act_cost': 337.56, 'quantity': 12348}, {'bnf_code': '0601021M0AAAAAA', 'items': 93, 'practice': 'C87017', 'bnf_name': 'Gliclazide_Tab 80mg', 'nic': 186.2, 'act_cost': 174.89, 'quantity': 6358}, {'bnf_code': '0601021M0AAAAAA', 'items': 42, 'practice': 'C87622', 'bnf_name': 'Gliclazide_Tab 80mg', 'nic': 71.63, 'act_cost': 67.23, 'quantity': 2446}, {'bnf_code': '0601021M0AAAAAA', 'items': 4, 'practice': 'B83032', 'bnf_name': 'Gliclazide_Tab 80mg', 'nic': 14.76, 'act_cost': 13.71, 'quantity': 504}, {'bnf_code': '0601021M0AAAAAA', 'items': 2, 'practice': 'B83058', 'bnf_name': 'Gliclazide_Tab 80mg', 'nic': 6.56, 'act_cost': 6.1, 'quantity': 224}, {'bnf_code': '0601021M0AAAAAA', 'items': 1, 'practice': 'B83611', 'bnf_name': 'Gliclazide_Tab 80mg', 'nic': 0.82, 'act_cost': 0.77, 'quantity': 28}, {'bnf_code': '0601021M0AAAAAA', 'items': 4, 'practice': 'B83661', 'bnf_name': 'Gliclazide_Tab 80mg', 'nic': 1.64, 'act_cost': 1.97, 'quantity': 56}, {'bnf_code': '0601021M0AAAAAA', 'items': 154, 'practice': 'B86016', 'bnf_name': 'Gliclazide_Tab 80mg', 'nic': 359.51, 'act_cost': 338.49, 'quantity': 12272}, {'bnf_code': '0601021M0AAAAAA', 'items': 131, 'practice': 'B86054', 'bnf_name': 'Gliclazide_Tab 80mg', 'nic': 201.79, 'act_cost': 192.53, 'quantity': 6896}, {'bnf_code': '0601021M0AAAAAA', 'items': 20, 'practice': 'B85004', 'bnf_name': 'Gliclazide_Tab 80mg', 'nic': 49.14, 'act_cost': 46.35, 'quantity': 1678}, {'bnf_code': '0601021M0AAAAAA', 'items': 16, 'practice': 'B85020', 'bnf_name': 'Gliclazide_Tab 80mg', 'nic': 40.41, 'act_cost': 37.71, 'quantity': 1380}, {'bnf_code': '0601021M0AAAAAA', 'items': 27, 'practice': 'Y01851', 'bnf_name': 'Gliclazide_Tab 80mg', 'nic': 61.12, 'act_cost': 57.52, 'quantity': 2086}, {'bnf_code': '0601021M0AAAAAA', 'items': 74, 'practice': 'M86005', 'bnf_name': 'Gliclazide_Tab 80mg', 'nic': 107.91, 'act_cost': 101.71, 'quantity': 3684}, {'bnf_code': '0601021M0AAAAAA', 'items': 57, 'practice': 'M86012', 'bnf_name': 'Gliclazide_Tab 80mg', 'nic': 104.79, 'act_cost': 98.01, 'quantity': 3578}, {'bnf_code': '0601021M0AAAAAA', 'items': 87, 'practice': 'M86617', 'bnf_name': 'Gliclazide_Tab 80mg', 'nic': 161.34, 'act_cost': 150.94, 'quantity': 5509}, {'bnf_code': '0601021M0AAAAAA', 'items': 15, 'practice': 'Y00996', 'bnf_name': 'Gliclazide_Tab 80mg', 'nic': 37.72, 'act_cost': 35.1, 'quantity': 1288}, {'bnf_code': '0601021M0AAAAAA', 'items': 1, 'practice': 'Y02652', 'bnf_name': 'Gliclazide_Tab 80mg', 'nic': 0.82, 'act_cost': 0.77, 'quantity': 28}, {'bnf_code': '0601021M0AAAAAA', 'items': 17, 'practice': 'Y04951', 'bnf_name': 'Gliclazide_Tab 80mg', 'nic': 32.33, 'act_cost': 30.34, 'quantity': 1104}, {'bnf_code': '0601021M0AAAAAA', 'items': 78, 'practice': 'M85078', 'bnf_name': 'Gliclazide_Tab 80mg', 'nic': 298.95, 'act_cost': 278.02, 'quantity': 10208}, {'bnf_code': '0601021M0AAAAAA', 'items': 18, 'practice': 'M85774', 'bnf_name': 'Gliclazide_Tab 80mg', 'nic': 57.4, 'act_cost': 53.85, 'quantity': 1960}, {'bnf_code': '0601021M0AAAAAA', 'items': 43, 'practice': 'Y02620', 'bnf_name': 'Gliclazide_Tab 80mg', 'nic': 108.11, 'act_cost': 101.32, 'quantity': 3692}, {'bnf_code': '0601021M0AAAAAA', 'items': 82, 'practice': 'M85176', 'bnf_name': 'Gliclazide_Tab 80mg', 'nic': 195.97, 'act_cost': 184.24, 'quantity': 6692}, {'bnf_code': '0601021M0AAAAAA', 'items': 16, 'practice': 'M85652', 'bnf_name': 'Gliclazide_Tab 80mg', 'nic': 45.1, 'act_cost': 41.95, 'quantity': 1540}, {'bnf_code': '0601021M0AAAAAA', 'items': 21, 'practice': 'M85686', 'bnf_name': 'Gliclazide_Tab 80mg', 'nic': 35.95, 'act_cost': 34.04, 'quantity': 1228}, {'bnf_code': '0601021M0AAAAAA', 'items': 127, 'practice': 'M85715', 'bnf_name': 'Gliclazide_Tab 80mg', 'nic': 447.12, 'act_cost': 416.69, 'quantity': 15268}, {'bnf_code': '0601021M0AAAAAA', 'items': 19, 'practice': 'M85757', 'bnf_name': 'Gliclazide_Tab 80mg', 'nic': 71.34, 'act_cost': 66.48, 'quantity': 2436}, {'bnf_code': '0601021M0AAAAAA', 'items': 101, 'practice': 'M88038', 'bnf_name': 'Gliclazide_Tab 80mg', 'nic': 203.15, 'act_cost': 190.01, 'quantity': 6946}, {'bnf_code': '0601021M0AAAAAA', 'items': 21, 'practice': 'M88619', 'bnf_name': 'Gliclazide_Tab 80mg', 'nic': 66.28, 'act_cost': 61.72, 'quantity': 2188}, {'bnf_code': '0601021M0AAAAAA', 'items': 15, 'practice': 'M88625', 'bnf_name': 'Gliclazide_Tab 80mg', 'nic': 31.28, 'act_cost': 29.23, 'quantity': 1068}, {'bnf_code': '0601021M0AAAAAA', 'items': 2, 'practice': 'M88646', 'bnf_name': 'Gliclazide_Tab 80mg', 'nic': 4.92, 'act_cost': 4.58, 'quantity': 168}, {'bnf_code': '0601021M0AAAAAA', 'items': 93, 'practice': 'Y00412', 'bnf_name': 'Gliclazide_Tab 80mg', 'nic': 101.52, 'act_cost': 100.03, 'quantity': 3461}, {'bnf_code': '0601021M0AAAAAA', 'items': 38, 'practice': 'Y00492', 'bnf_name': 'Gliclazide_Tab 80mg', 'nic': 98.73, 'act_cost': 92.76, 'quantity': 3372}, {'bnf_code': '0601021M0AAAAAA', 'items': 34, 'practice': 'Y02961', 'bnf_name': 'Gliclazide_Tab 80mg', 'nic': 71.35, 'act_cost': 67.08, 'quantity': 2436}, {'bnf_code': '0601021M0AAAAAA', 'items': 65, 'practice': 'M91013', 'bnf_name': 'Gliclazide_Tab 80mg', 'nic': 186.55, 'act_cost': 173.79, 'quantity': 6370}, {'bnf_code': '0601021M0AAAAAA', 'items': 41, 'practice': 'M91021', 'bnf_name': 'Gliclazide_Tab 80mg', 'nic': 112.81, 'act_cost': 105.15, 'quantity': 3852}, {'bnf_code': '0601021M0AAAAAA', 'items': 14, 'practice': 'M91025', 'bnf_name': 'Gliclazide_Tab 80mg', 'nic': 29.12, 'act_cost': 27.43, 'quantity': 994}, {'bnf_code': '0601021M0AAAAAA', 'items': 26, 'practice': 'M91026', 'bnf_name': 'Gliclazide_Tab 80mg', 'nic': 59.8, 'act_cost': 55.98, 'quantity': 2042}, {'bnf_code': '0601021M0AAAAAA', 'items': 12, 'practice': 'M91033', 'bnf_name': 'Gliclazide_Tab 80mg', 'nic': 25.36, 'act_cost': 23.92, 'quantity': 866}, {'bnf_code': '0601021M0AAAAAA', 'items': 34, 'practice': 'M91034', 'bnf_name': 'Gliclazide_Tab 80mg', 'nic': 122.64, 'act_cost': 114.15, 'quantity': 4188}, {'bnf_code': '0601021M0AAAAAA', 'items': 27, 'practice': 'M91602', 'bnf_name': 'Gliclazide_Tab 80mg', 'nic': 49.44, 'act_cost': 46.51, 'quantity': 1688}, {'bnf_code': '0601021M0AAAAAA', 'items': 10, 'practice': 'M91604', 'bnf_name': 'Gliclazide_Tab 80mg', 'nic': 31.16, 'act_cost': 28.97, 'quantity': 1064}, {'bnf_code': '0601021M0AAAAAA', 'items': 4, 'practice': 'M91612', 'bnf_name': 'Gliclazide_Tab 80mg', 'nic': 9.84, 'act_cost': 9.16, 'quantity': 336}, {'bnf_code': '0601021M0AAAAAA', 'items': 36, 'practice': 'M91647', 'bnf_name': 'Gliclazide_Tab 80mg', 'nic': 128.48, 'act_cost': 120.39, 'quantity': 4386}, {'bnf_code': '0601021M0AAAAAA', 'items': 32, 'practice': 'M91650', 'bnf_name': 'Gliclazide_Tab 80mg', 'nic': 67.83, 'act_cost': 64.08, 'quantity': 2316}, {'bnf_code': '0601021M0AAAAAA', 'items': 6, 'practice': 'M91660', 'bnf_name': 'Gliclazide_Tab 80mg', 'nic': 12.3, 'act_cost': 11.46, 'quantity': 420}, {'bnf_code': '0601021M0AAAAAA', 'items': 6, 'practice': 'Y00278', 'bnf_name': 'Gliclazide_Tab 80mg', 'nic': 20.38, 'act_cost': 19.04, 'quantity': 696}, {'bnf_code': '0601021M0AAAAAA', 'items': 65, 'practice': 'M85070', 'bnf_name': 'Gliclazide_Tab 80mg', 'nic': 130.15, 'act_cost': 122.38, 'quantity': 4444}, {'bnf_code': '0601021M0AAAAAA', 'items': 20, 'practice': 'M85669', 'bnf_name': 'Gliclazide_Tab 80mg', 'nic': 57.11, 'act_cost': 53.41, 'quantity': 1950}, {'bnf_code': '0601021M0AAAAAA', 'items': 27, 'practice': 'M85716', 'bnf_name': 'Gliclazide_Tab 80mg', 'nic': 61.86, 'act_cost': 57.91, 'quantity': 2112}, {'bnf_code': '0601021M0AAAAAA', 'items': 84, 'practice': 'C84096', 'bnf_name': 'Gliclazide_Tab 80mg', 'nic': 170.19, 'act_cost': 161.3, 'quantity': 5810}, {'bnf_code': '0601021M0AAAAAA', 'items': 61, 'practice': 'C84103', 'bnf_name': 'Gliclazide_Tab 80mg', 'nic': 189.12, 'act_cost': 177.04, 'quantity': 6494}, {'bnf_code': '0601021M0AAAAAA', 'items': 97, 'practice': 'C84105', 'bnf_name': 'Gliclazide_Tab 80mg', 'nic': 239.85, 'act_cost': 223.55, 'quantity': 8190}, {'bnf_code': '0601021M0AAAAAA', 'items': 19, 'practice': 'C84117', 'bnf_name': 'Gliclazide_Tab 80mg', 'nic': 49.43, 'act_cost': 46.09, 'quantity': 1688}, {'bnf_code': '0601021M0AAAAAA', 'items': 63, 'practice': 'C84136', 'bnf_name': 'Gliclazide_Tab 80mg', 'nic': 140.45, 'act_cost': 131.1, 'quantity': 4796}, {'bnf_code': '0601021M0AAAAAA', 'items': 90, 'practice': 'C84691', 'bnf_name': 'Gliclazide_Tab 80mg', 'nic': 224.25, 'act_cost': 209.82, 'quantity': 7657}, {'bnf_code': '0601021M0AAAAAA', 'items': 5, 'practice': 'C84714', 'bnf_name': 'Gliclazide_Tab 80mg', 'nic': 17.34, 'act_cost': 16.22, 'quantity': 592}, {'bnf_code': '0601021M0AAAAAA', 'items': 4, 'practice': 'Y00502', 'bnf_name': 'Gliclazide_Tab 80mg', 'nic': 1.12, 'act_cost': 1.49, 'quantity': 38}, {'bnf_code': '0601021M0AAAAAA', 'items': 74, 'practice': 'D83012', 'bnf_name': 'Gliclazide_Tab 80mg', 'nic': 133.23, 'act_cost': 125.06, 'quantity': 4549}, {'bnf_code': '0601021M0AAAAAA', 'items': 32, 'practice': 'D83021', 'bnf_name': 'Gliclazide_Tab 80mg', 'nic': 64.58, 'act_cost': 60.58, 'quantity': 2205}, {'bnf_code': '0601021M0AAAAAA', 'items': 46, 'practice': 'F81151', 'bnf_name': 'Gliclazide_Tab 80mg', 'nic': 76.87, 'act_cost': 73.01, 'quantity': 2733}, {'bnf_code': '0601021M0AAAAAA', 'items': 7, 'practice': 'F81158', 'bnf_name': 'Gliclazide_Tab 80mg', 'nic': 17.22, 'act_cost': 16.03, 'quantity': 588}, {'bnf_code': '0601021M0AAAAAA', 'items': 41, 'practice': 'Y00469', 'bnf_name': 'Gliclazide_Tab 80mg', 'nic': 61.44, 'act_cost': 59.5, 'quantity': 2097}, {'bnf_code': '0601021M0AAAAAA', 'items': 17, 'practice': 'Y00758', 'bnf_name': 'Gliclazide_Tab 80mg', 'nic': 45.34, 'act_cost': 42.38, 'quantity': 1548}, {'bnf_code': '0601021M0AAAAAA', 'items': 79, 'practice': 'F81070', 'bnf_name': 'Gliclazide_Tab 80mg', 'nic': 279.45, 'act_cost': 260.67, 'quantity': 9539}, {'bnf_code': '0601021M0AAAAAA', 'items': 92, 'practice': 'F81096', 'bnf_name': 'Gliclazide_Tab 80mg', 'nic': 207.64, 'act_cost': 195.45, 'quantity': 7023}, {'bnf_code': '0601021M0AAAAAA', 'items': 116, 'practice': 'F81739', 'bnf_name': 'Gliclazide_Tab 80mg', 'nic': 176.06, 'act_cost': 167.62, 'quantity': 6009}, {'bnf_code': '0601021M0AAAAAA', 'items': 7, 'practice': 'F81740', 'bnf_name': 'Gliclazide_Tab 80mg', 'nic': 36.9, 'act_cost': 34.25, 'quantity': 1260}, {'bnf_code': '0601021M0AAAAAA', 'items': 21, 'practice': 'F81046', 'bnf_name': 'Gliclazide_Tab 80mg', 'nic': 79.75, 'act_cost': 74.39, 'quantity': 2760}, {'bnf_code': '0601021M0AAAAAA', 'items': 80, 'practice': 'F81128', 'bnf_name': 'Gliclazide_Tab 80mg', 'nic': 225.43, 'act_cost': 212.1, 'quantity': 7728}, {'bnf_code': '0601021M0AAAAAA', 'items': 28, 'practice': 'F81147', 'bnf_name': 'Gliclazide_Tab 80mg', 'nic': 93.89, 'act_cost': 87.37, 'quantity': 3206}, {'bnf_code': '0601021M0AAAAAA', 'items': 36, 'practice': 'F81164', 'bnf_name': 'Gliclazide_Tab 80mg', 'nic': 118.9, 'act_cost': 110.92, 'quantity': 4060}, {'bnf_code': '0601021M0AAAAAA', 'items': 22, 'practice': 'F81223', 'bnf_name': 'Gliclazide_Tab 80mg', 'nic': 85.28, 'act_cost': 79.22, 'quantity': 2912}, {'bnf_code': '0601021M0AAAAAA', 'items': 23, 'practice': 'F81724', 'bnf_name': 'Gliclazide_Tab 80mg', 'nic': 67.61, 'act_cost': 63.38, 'quantity': 2308}, {'bnf_code': '0601021M0AAAAAA', 'items': 112, 'practice': 'K83013', 'bnf_name': 'Gliclazide_Tab 80mg', 'nic': 177.13, 'act_cost': 165.87, 'quantity': 6048}, {'bnf_code': '0601021M0AAAAAA', 'items': 156, 'practice': 'K83051', 'bnf_name': 'Gliclazide_Tab 80mg', 'nic': 307.37, 'act_cost': 287.27, 'quantity': 10496}, {'bnf_code': '0601021M0AAAAAA', 'items': 2, 'practice': 'Y00234', 'bnf_name': 'Gliclazide_Tab 80mg', 'nic': 1.64, 'act_cost': 1.54, 'quantity': 56}, {'bnf_code': '0601021M0AAAAAA', 'items': 159, 'practice': 'E82045', 'bnf_name': 'Gliclazide_Tab 80mg', 'nic': 235.97, 'act_cost': 224.22, 'quantity': 8055}, {'bnf_code': '0601021M0AAAAAA', 'items': 37, 'practice': 'E82603', 'bnf_name': 'Gliclazide_Tab 80mg', 'nic': 54.18, 'act_cost': 52.62, 'quantity': 1848}, {'bnf_code': '0601021M0AAAAAA', 'items': 36, 'practice': 'E82613', 'bnf_name': 'Gliclazide_Tab 80mg', 'nic': 65.72, 'act_cost': 62.7, 'quantity': 2244}, {'bnf_code': '0601021M0AAAAAA', 'items': 25, 'practice': 'E82630', 'bnf_name': 'Gliclazide_Tab 80mg', 'nic': 48.58, 'act_cost': 46.39, 'quantity': 1658}, {'bnf_code': '0601021M0AAAAAA', 'items': 16, 'practice': 'E82656', 'bnf_name': 'Gliclazide_Tab 80mg', 'nic': 30.58, 'act_cost': 29.2, 'quantity': 1044}, {'bnf_code': '0601021M0AAAAAA', 'items': 52, 'practice': 'C83613', 'bnf_name': 'Gliclazide_Tab 80mg', 'nic': 76.56, 'act_cost': 72.88, 'quantity': 2612}, {'bnf_code': '0601021M0AAAAAA', 'items': 75, 'practice': 'C82013', 'bnf_name': 'Gliclazide_Tab 80mg', 'nic': 193.68, 'act_cost': 182.32, 'quantity': 6616}, {'bnf_code': '0601021M0AAAAAA', 'items': 81, 'practice': 'C82071', 'bnf_name': 'Gliclazide_Tab 80mg', 'nic': 166.34, 'act_cost': 157.29, 'quantity': 5680}, {'bnf_code': '0601021M0AAAAAA', 'items': 1, 'practice': 'C82108', 'bnf_name': 'Gliclazide_Tab 80mg', 'nic': 0.82, 'act_cost': 0.77, 'quantity': 28}, {'bnf_code': '0601021M0AAAAAA', 'items': 134, 'practice': 'C82642', 'bnf_name': 'Gliclazide_Tab 80mg', 'nic': 276.05, 'act_cost': 258.12, 'quantity': 9426}, {'bnf_code': '0601021M0AAAAAA', 'items': 83, 'practice': 'C82667', 'bnf_name': 'Gliclazide_Tab 80mg', 'nic': 181.86, 'act_cost': 170.28, 'quantity': 6210}, {'bnf_code': '0601021M0AAAAAA', 'items': 41, 'practice': 'Y02469', 'bnf_name': 'Gliclazide_Tab 80mg', 'nic': 89.38, 'act_cost': 83.25, 'quantity': 3052}, {'bnf_code': '0601021M0AAAAAA', 'items': 2, 'practice': 'Y02470', 'bnf_name': 'Gliclazide_Tab 80mg', 'nic': 0.97, 'act_cost': 1.02, 'quantity': 33}, {'bnf_code': '0601021M0AAAAAA', 'items': 63, 'practice': 'C83009', 'bnf_name': 'Gliclazide_Tab 80mg', 'nic': 113.21, 'act_cost': 106.19, 'quantity': 3789}, {'bnf_code': '0601021M0AAAAAA', 'items': 96, 'practice': 'C83072', 'bnf_name': 'Gliclazide_Tab 80mg', 'nic': 203.01, 'act_cost': 192.23, 'quantity': 6930}, {'bnf_code': '0601021M0AAAAAA', 'items': 95, 'practice': 'C82047', 'bnf_name': 'Gliclazide_Tab 80mg', 'nic': 183.65, 'act_cost': 172.7, 'quantity': 6280}, {'bnf_code': '0601021M0AAAAAA', 'items': 111, 'practice': 'C82075', 'bnf_name': 'Gliclazide_Tab 80mg', 'nic': 216.83, 'act_cost': 203.19, 'quantity': 7403}, {'bnf_code': '0601021M0AAAAAA', 'items': 61, 'practice': 'C82082', 'bnf_name': 'Gliclazide_Tab 80mg', 'nic': 117.43, 'act_cost': 109.86, 'quantity': 4010}, {'bnf_code': '0601021M0AAAAAA', 'items': 114, 'practice': 'M83046', 'bnf_name': 'Gliclazide_Tab 80mg', 'nic': 322.21, 'act_cost': 300.91, 'quantity': 11002}, {'bnf_code': '0601021M0AAAAAA', 'items': 97, 'practice': 'M83089', 'bnf_name': 'Gliclazide_Tab 80mg', 'nic': 318.35, 'act_cost': 296.91, 'quantity': 10870}, {'bnf_code': '0601021M0AAAAAA', 'items': 146, 'practice': 'M83075', 'bnf_name': 'Gliclazide_Tab 80mg', 'nic': 309.32, 'act_cost': 288.68, 'quantity': 10562}, {'bnf_code': '0601021M0AAAAAA', 'items': 48, 'practice': 'M83100', 'bnf_name': 'Gliclazide_Tab 80mg', 'nic': 119.97, 'act_cost': 112.26, 'quantity': 4096}, {'bnf_code': '0601021M0AAAAAA', 'items': 65, 'practice': 'M83623', 'bnf_name': 'Gliclazide_Tab 80mg', 'nic': 179.7, 'act_cost': 167.77, 'quantity': 6136}, {'bnf_code': '0601021M0AAAAAA', 'items': 118, 'practice': 'M83700', 'bnf_name': 'Gliclazide_Tab 80mg', 'nic': 286.22, 'act_cost': 267.44, 'quantity': 9774}, {'bnf_code': '0601021M0AAAAAA', 'items': 34, 'practice': 'M83708', 'bnf_name': 'Gliclazide_Tab 80mg', 'nic': 100.04, 'act_cost': 93.04, 'quantity': 3416}, {'bnf_code': '0601021M0AAAAAA', 'items': 34, 'practice': 'M83713', 'bnf_name': 'Gliclazide_Tab 80mg', 'nic': 78.55, 'act_cost': 73.45, 'quantity': 2682}, {'bnf_code': '0601021M0AAAAAA', 'items': 88, 'practice': 'Y02521', 'bnf_name': 'Gliclazide_Tab 80mg', 'nic': 191.72, 'act_cost': 179.86, 'quantity': 6546}, {'bnf_code': '0601021M0AAAAAA', 'items': 220, 'practice': 'F85002', 'bnf_name': 'Gliclazide_Tab 80mg', 'nic': 425.43, 'act_cost': 405.87, 'quantity': 14521}, {'bnf_code': '0601021M0AAAAAA', 'items': 71, 'practice': 'F85044', 'bnf_name': 'Gliclazide_Tab 80mg', 'nic': 167.26, 'act_cost': 158.22, 'quantity': 5710}, {'bnf_code': '0601021M0AAAAAA', 'items': 69, 'practice': 'F85676', 'bnf_name': 'Gliclazide_Tab 80mg', 'nic': 152.01, 'act_cost': 143.28, 'quantity': 5190}, {'bnf_code': '0601021M0AAAAAA', 'items': 30, 'practice': 'F82014', 'bnf_name': 'Gliclazide_Tab 80mg', 'nic': 71.87, 'act_cost': 67.1, 'quantity': 2454}, {'bnf_code': '0601021M0AAAAAA', 'items': 31, 'practice': 'F82016', 'bnf_name': 'Gliclazide_Tab 80mg', 'nic': 59.98, 'act_cost': 56.6, 'quantity': 2048}, {'bnf_code': '0601021M0AAAAAA', 'items': 17, 'practice': 'F82670', 'bnf_name': 'Gliclazide_Tab 80mg', 'nic': 52.48, 'act_cost': 48.79, 'quantity': 1792}, {'bnf_code': '0601021M0AAAAAA', 'items': 19, 'practice': 'Y00312', 'bnf_name': 'Gliclazide_Tab 80mg', 'nic': 113.98, 'act_cost': 105.75, 'quantity': 3892}, {'bnf_code': '0601021M0AAAAAA', 'items': 3, 'practice': 'Y05493', 'bnf_name': 'Gliclazide_Tab 80mg', 'nic': 1.29, 'act_cost': 1.43, 'quantity': 44}, {'bnf_code': '0601021M0AAAAAA', 'items': 115, 'practice': 'E84003', 'bnf_name': 'Gliclazide_Tab 80mg', 'nic': 499.97, 'act_cost': 464.97, 'quantity': 17072}, {'bnf_code': '0601021M0AAAAAA', 'items': 123, 'practice': 'E84028', 'bnf_name': 'Gliclazide_Tab 80mg', 'nic': 198.22, 'act_cost': 192.62, 'quantity': 6762}, {'bnf_code': '0601021M0AAAAAA', 'items': 50, 'practice': 'E84029', 'bnf_name': 'Gliclazide_Tab 80mg', 'nic': 112.82, 'act_cost': 107.07, 'quantity': 3852}, {'bnf_code': '0601021M0AAAAAA', 'items': 150, 'practice': 'E84030', 'bnf_name': 'Gliclazide_Tab 80mg', 'nic': 321.97, 'act_cost': 306.13, 'quantity': 10992}, {'bnf_code': '0601021M0AAAAAA', 'items': 41, 'practice': 'E84626', 'bnf_name': 'Gliclazide_Tab 80mg', 'nic': 99.84, 'act_cost': 95.43, 'quantity': 3408}, {'bnf_code': '0601021M0AAAAAA', 'items': 31, 'practice': 'E84637', 'bnf_name': 'Gliclazide_Tab 80mg', 'nic': 50.84, 'act_cost': 48.35, 'quantity': 1736}, {'bnf_code': '0601021M0AAAAAA', 'items': 47, 'practice': 'E84701', 'bnf_name': 'Gliclazide_Tab 80mg', 'nic': 122.93, 'act_cost': 117.59, 'quantity': 4197}, {'bnf_code': '0601021M0AAAAAA', 'items': 49, 'practice': 'Y01090', 'bnf_name': 'Gliclazide_Tab 80mg', 'nic': 128.22, 'act_cost': 120.33, 'quantity': 4378}, {'bnf_code': '0601021M0AAAAAA', 'items': 47, 'practice': 'Y02692', 'bnf_name': 'Gliclazide_Tab 80mg', 'nic': 109.31, 'act_cost': 102.27, 'quantity': 3732}, {'bnf_code': '0601021M0AAAAAA', 'items': 1, 'practice': 'Y05660', 'bnf_name': 'Gliclazide_Tab 80mg', 'nic': 0.82, 'act_cost': 0.77, 'quantity': 28}, {'bnf_code': '0601021M0AAAAAA', 'items': 68, 'practice': 'E85004', 'bnf_name': 'Gliclazide_Tab 80mg', 'nic': 129.44, 'act_cost': 123.29, 'quantity': 4417}, {'bnf_code': '0601021M0AAAAAA', 'items': 104, 'practice': 'E85056', 'bnf_name': 'Gliclazide_Tab 80mg', 'nic': 208.29, 'act_cost': 196.31, 'quantity': 6251}, {'bnf_code': '0601021M0AAAAAA', 'items': 66, 'practice': 'E85058', 'bnf_name': 'Gliclazide_Tab 80mg', 'nic': 140.08, 'act_cost': 133.8, 'quantity': 4817}, {'bnf_code': '0601021M0AAAAAA', 'items': 97, 'practice': 'E85059', 'bnf_name': 'Gliclazide_Tab 80mg', 'nic': 173.89, 'act_cost': 165.01, 'quantity': 5922}, {'bnf_code': '0601021M0AAAAAA', 'items': 65, 'practice': 'E85126', 'bnf_name': 'Gliclazide_Tab 80mg', 'nic': 137.13, 'act_cost': 131.55, 'quantity': 4679}, {'bnf_code': '0601021M0AAAAAA', 'items': 73, 'practice': 'E85605', 'bnf_name': 'Gliclazide_Tab 80mg', 'nic': 94.06, 'act_cost': 91.79, 'quantity': 3210}, {'bnf_code': '0601021M0AAAAAA', 'items': 5, 'practice': 'E85700', 'bnf_name': 'Gliclazide_Tab 80mg', 'nic': 23.96, 'act_cost': 22.35, 'quantity': 818}, {'bnf_code': '0601021M0AAAAAA', 'items': 42, 'practice': 'E85732', 'bnf_name': 'Gliclazide_Tab 80mg', 'nic': 37.55, 'act_cost': 38.58, 'quantity': 1271}, {'bnf_code': '0601021M0AAAAAA', 'items': 58, 'practice': 'E85734', 'bnf_name': 'Gliclazide_Tab 80mg', 'nic': 131.46, 'act_cost': 123.53, 'quantity': 4488}, {'bnf_code': '0601021M0AAAAAA', 'items': 3, 'practice': 'E85735', 'bnf_name': 'Gliclazide_Tab 80mg', 'nic': 5.74, 'act_cost': 5.35, 'quantity': 196}, {'bnf_code': '0601021M0AAAAAA', 'items': 114, 'practice': 'Y02671', 'bnf_name': 'Gliclazide_Tab 80mg', 'nic': 218.54, 'act_cost': 209.52, 'quantity': 7488}, {'bnf_code': '0601021M0AAAAAA', 'items': 36, 'practice': 'Y02672', 'bnf_name': 'Gliclazide_Tab 80mg', 'nic': 91.82, 'act_cost': 87.46, 'quantity': 3146}, {'bnf_code': '0601021M0AAAAAA', 'items': 99, 'practice': 'E84004', 'bnf_name': 'Gliclazide_Tab 80mg', 'nic': 314.51, 'act_cost': 293.69, 'quantity': 10738}, {'bnf_code': '0601021M0AAAAAA', 'items': 203, 'practice': 'E84069', 'bnf_name': 'Gliclazide_Tab 80mg', 'nic': 445.4, 'act_cost': 421.14, 'quantity': 15207}, {'bnf_code': '0601021M0AAAAAA', 'items': 20, 'practice': 'E84713', 'bnf_name': 'Gliclazide_Tab 80mg', 'nic': 50.78, 'act_cost': 47.55, 'quantity': 1734}, {'bnf_code': '0601021M0AAAAAA', 'items': 1, 'practice': 'Y05566', 'bnf_name': 'Gliclazide_Tab 80mg', 'nic': 0.82, 'act_cost': 0.77, 'quantity': 28}, {'bnf_code': '0601021M0AAAAAA', 'items': 37, 'practice': 'E87733', 'bnf_name': 'Gliclazide_Tab 80mg', 'nic': 96.85, 'act_cost': 90.81, 'quantity': 3307}, {'bnf_code': '0601021M0AAAAAA', 'items': 55, 'practice': 'Y01011', 'bnf_name': 'Gliclazide_Tab 80mg', 'nic': 169.48, 'act_cost': 157.87, 'quantity': 5787}, {'bnf_code': '0601021M0AAAAAA', 'items': 1, 'practice': 'Y04920', 'bnf_name': 'Gliclazide_Tab 80mg', 'nic': 0.82, 'act_cost': 0.77, 'quantity': 28}, {'bnf_code': '0601021M0AAAAAA', 'items': 40, 'practice': 'H84015', 'bnf_name': 'Gliclazide_Tab 80mg', 'nic': 66.49, 'act_cost': 63.56, 'quantity': 2270}, {'bnf_code': '0601021M0AAAAAA', 'items': 162, 'practice': 'H84030', 'bnf_name': 'Gliclazide_Tab 80mg', 'nic': 201.01, 'act_cost': 194.66, 'quantity': 6859}, {'bnf_code': '0601021M0AAAAAA', 'items': 53, 'practice': 'H84053', 'bnf_name': 'Gliclazide_Tab 80mg', 'nic': 103.7, 'act_cost': 98.67, 'quantity': 3540}, {'bnf_code': '0601021M0AAAAAA', 'items': 28, 'practice': 'H84062', 'bnf_name': 'Gliclazide_Tab 80mg', 'nic': 79.8, 'act_cost': 75.25, 'quantity': 2724}, {'bnf_code': '0601021M0AAAAAA', 'items': 349, 'practice': 'G85012', 'bnf_name': 'Gliclazide_Tab 80mg', 'nic': 903.61, 'act_cost': 852.16, 'quantity': 30847}, {'bnf_code': '0601021M0AAAAAA', 'items': 124, 'practice': 'G85034', 'bnf_name': 'Gliclazide_Tab 80mg', 'nic': 314.19, 'act_cost': 296.82, 'quantity': 10726}, {'bnf_code': '0601021M0AAAAAA', 'items': 117, 'practice': 'G85095', 'bnf_name': 'Gliclazide_Tab 80mg', 'nic': 230.25, 'act_cost': 219.13, 'quantity': 7857}, {'bnf_code': '0601021M0AAAAAA', 'items': 46, 'practice': 'G85134', 'bnf_name': 'Gliclazide_Tab 80mg', 'nic': 130.55, 'act_cost': 123.14, 'quantity': 4456}, {'bnf_code': '0601021M0AAAAAA', 'items': 17, 'practice': 'G85715', 'bnf_name': 'Gliclazide_Tab 80mg', 'nic': 63.95, 'act_cost': 59.82, 'quantity': 2184}, {'bnf_code': '0601021M0AAAAAA', 'items': 56, 'practice': 'G85723', 'bnf_name': 'Gliclazide_Tab 80mg', 'nic': 140.66, 'act_cost': 134.63, 'quantity': 4802}, {'bnf_code': '0601021M0AAAAAA', 'items': 23, 'practice': 'Y04690', 'bnf_name': 'Gliclazide_Tab 80mg', 'nic': 55.37, 'act_cost': 52.45, 'quantity': 1890}, {'bnf_code': '0601021M0AAAAAA', 'items': 13, 'practice': 'H85019', 'bnf_name': 'Gliclazide_Tab 80mg', 'nic': 32.8, 'act_cost': 30.52, 'quantity': 1120}, {'bnf_code': '0601021M0AAAAAA', 'items': 23, 'practice': 'H85054', 'bnf_name': 'Gliclazide_Tab 80mg', 'nic': 47.91, 'act_cost': 44.84, 'quantity': 1636}, {'bnf_code': '0601021M0AAAAAA', 'items': 32, 'practice': 'H85063', 'bnf_name': 'Gliclazide_Tab 80mg', 'nic': 37.18, 'act_cost': 36.22, 'quantity': 1268}, {'bnf_code': '0601021M0AAAAAA', 'items': 106, 'practice': 'H85115', 'bnf_name': 'Gliclazide_Tab 80mg', 'nic': 248.13, 'act_cost': 235.13, 'quantity': 8470}, {'bnf_code': '0601021M0AAAAAA', 'items': 90, 'practice': 'H85653', 'bnf_name': 'Gliclazide_Tab 80mg', 'nic': 147.08, 'act_cost': 140.47, 'quantity': 5021}, {'bnf_code': '0601021M0AAAAAA', 'items': 95, 'practice': 'L84008', 'bnf_name': 'Gliclazide_Tab 80mg', 'nic': 197.23, 'act_cost': 184.87, 'quantity': 6734}, {'bnf_code': '0601021M0AAAAAA', 'items': 88, 'practice': 'L84026', 'bnf_name': 'Gliclazide_Tab 80mg', 'nic': 171.36, 'act_cost': 163.14, 'quantity': 5850}, {'bnf_code': '0601021M0AAAAAA', 'items': 116, 'practice': 'L84033', 'bnf_name': 'Gliclazide_Tab 80mg', 'nic': 234.21, 'act_cost': 220.38, 'quantity': 7996}, {'bnf_code': '0601021M0AAAAAA', 'items': 93, 'practice': 'L84042', 'bnf_name': 'Gliclazide_Tab 80mg', 'nic': 180.03, 'act_cost': 170.73, 'quantity': 6146}, {'bnf_code': '0601021M0AAAAAA', 'items': 61, 'practice': 'L84049', 'bnf_name': 'Gliclazide_Tab 80mg', 'nic': 153.76, 'act_cost': 145.21, 'quantity': 5250}, {'bnf_code': '0601021M0AAAAAA', 'items': 81, 'practice': 'L84056', 'bnf_name': 'Gliclazide_Tab 80mg', 'nic': 148.87, 'act_cost': 140.34, 'quantity': 5082}, {'bnf_code': '0601021M0AAAAAA', 'items': 17, 'practice': 'L84057', 'bnf_name': 'Gliclazide_Tab 80mg', 'nic': 39.62, 'act_cost': 37.49, 'quantity': 1352}, {'bnf_code': '0601021M0AAAAAA', 'items': 64, 'practice': 'L84058', 'bnf_name': 'Gliclazide_Tab 80mg', 'nic': 104.24, 'act_cost': 99.71, 'quantity': 3556}, {'bnf_code': '0601021M0AAAAAA', 'items': 64, 'practice': 'L82001', 'bnf_name': 'Gliclazide_Tab 80mg', 'nic': 178.05, 'act_cost': 166.61, 'quantity': 6080}, {'bnf_code': '0601021M0AAAAAA', 'items': 122, 'practice': 'L82028', 'bnf_name': 'Gliclazide_Tab 80mg', 'nic': 245.74, 'act_cost': 230.28, 'quantity': 8392}, {'bnf_code': '0601021M0AAAAAA', 'items': 137, 'practice': 'L83008', 'bnf_name': 'Gliclazide_Tab 80mg', 'nic': 297.33, 'act_cost': 280.06, 'quantity': 10151}, {'bnf_code': '0601021M0AAAAAA', 'items': 194, 'practice': 'L83100', 'bnf_name': 'Gliclazide_Tab 80mg', 'nic': 550.26, 'act_cost': 515.14, 'quantity': 18844}, {'bnf_code': '0601021M0AAAAAA', 'items': 83, 'practice': 'G82044', 'bnf_name': 'Gliclazide_Tab 80mg', 'nic': 149.26, 'act_cost': 144.63, 'quantity': 5093}, {'bnf_code': '0601021M0AAAAAA', 'items': 51, 'practice': 'G82056', 'bnf_name': 'Gliclazide_Tab 80mg', 'nic': 108.14, 'act_cost': 101.37, 'quantity': 3692}, {'bnf_code': '0601021M0AAAAAA', 'items': 30, 'practice': 'G82096', 'bnf_name': 'Gliclazide_Tab 80mg', 'nic': 86.92, 'act_cost': 81.04, 'quantity': 2968}, {'bnf_code': '0601021M0AAAAAA', 'items': 56, 'practice': 'G82185', 'bnf_name': 'Gliclazide_Tab 80mg', 'nic': 153.83, 'act_cost': 146.11, 'quantity': 5251}, {'bnf_code': '0601021M0AAAAAA', 'items': 46, 'practice': 'G82639', 'bnf_name': 'Gliclazide_Tab 80mg', 'nic': 71.94, 'act_cost': 68.86, 'quantity': 2456}, {'bnf_code': '0601021M0AAAAAA', 'items': 49, 'practice': 'Y02826', 'bnf_name': 'Gliclazide_Tab 80mg', 'nic': 124.69, 'act_cost': 116.83, 'quantity': 4257}, {'bnf_code': '0601021M0AAAAAA', 'items': 1, 'practice': 'Y04426', 'bnf_name': 'Gliclazide_Tab 80mg', 'nic': 0.82, 'act_cost': 0.77, 'quantity': 28}, {'bnf_code': '0601021M0AAAAAA', 'items': 32, 'practice': 'G82162', 'bnf_name': 'Gliclazide_Tab 80mg', 'nic': 94.41, 'act_cost': 88.3, 'quantity': 3224}, {'bnf_code': '0601021M0AAAAAA', 'items': 28, 'practice': 'G82704', 'bnf_name': 'Gliclazide_Tab 80mg', 'nic': 94.36, 'act_cost': 88.1, 'quantity': 3222}, {'bnf_code': '0601021M0AAAAAA', 'items': 38, 'practice': 'G82727', 'bnf_name': 'Gliclazide_Tab 80mg', 'nic': 57.4, 'act_cost': 54.01, 'quantity': 1960}, {'bnf_code': '0601021M0AAAAAA', 'items': 91, 'practice': 'G82020', 'bnf_name': 'Gliclazide_Tab 80mg', 'nic': 207.18, 'act_cost': 195.52, 'quantity': 7074}, {'bnf_code': '0601021M0AAAAAA', 'items': 96, 'practice': 'G82126', 'bnf_name': 'Gliclazide_Tab 80mg', 'nic': 289.88, 'act_cost': 273.14, 'quantity': 9898}, {'bnf_code': '0601021M0AAAAAA', 'items': 1, 'practice': 'Y03787', 'bnf_name': 'Gliclazide_Tab 80mg', 'nic': 0.15, 'act_cost': 0.25, 'quantity': 5}, {'bnf_code': '0601021M0AAAAAA', 'items': 1, 'practice': 'Y04588', 'bnf_name': 'Gliclazide_Tab 80mg', 'nic': 0.47, 'act_cost': 0.55, 'quantity': 16}, {'bnf_code': '0601021M0AAAAAA', 'items': 5, 'practice': 'Y01838', 'bnf_name': 'Gliclazide_Tab 80mg', 'nic': 5.33, 'act_cost': 5.29, 'quantity': 182}, {'bnf_code': '0601021M0AAAAAA', 'items': 153, 'practice': 'G81013', 'bnf_name': 'Gliclazide_Tab 80mg', 'nic': 225.0, 'act_cost': 216.3, 'quantity': 7679}, {'bnf_code': '0601021M0AAAAAA', 'items': 35, 'practice': 'G81658', 'bnf_name': 'Gliclazide_Tab 80mg', 'nic': 59.62, 'act_cost': 56.03, 'quantity': 2036}, {'bnf_code': '0601021M0AAAAAA', 'items': 18, 'practice': 'Y03051', 'bnf_name': 'Gliclazide_Tab 80mg', 'nic': 30.03, 'act_cost': 28.81, 'quantity': 1025}, {'bnf_code': '0601021M0AAAAAA', 'items': 15, 'practice': 'H81034', 'bnf_name': 'Gliclazide_Tab 80mg', 'nic': 77.08, 'act_cost': 71.54, 'quantity': 2632}, {'bnf_code': '0601021M0AAAAAA', 'items': 13, 'practice': 'H81036', 'bnf_name': 'Gliclazide_Tab 80mg', 'nic': 32.8, 'act_cost': 30.53, 'quantity': 1120}, {'bnf_code': '0601021M0AAAAAA', 'items': 5, 'practice': 'H81050', 'bnf_name': 'Gliclazide_Tab 80mg', 'nic': 22.96, 'act_cost': 21.32, 'quantity': 784}, {'bnf_code': '0601021M0AAAAAA', 'items': 85, 'practice': 'J81041', 'bnf_name': 'Gliclazide_Tab 80mg', 'nic': 274.75, 'act_cost': 255.5, 'quantity': 9368}, {'bnf_code': '0601021M0AAAAAA', 'items': 15, 'practice': 'J81043', 'bnf_name': 'Gliclazide_Tab 80mg', 'nic': 37.87, 'act_cost': 35.25, 'quantity': 1288}, {'bnf_code': '0601021M0AAAAAA', 'items': 60, 'practice': 'J81046', 'bnf_name': 'Gliclazide_Tab 80mg', 'nic': 238.91, 'act_cost': 222.11, 'quantity': 8158}, {'bnf_code': '0601021M0AAAAAA', 'items': 21, 'practice': 'J81056', 'bnf_name': 'Gliclazide_Tab 80mg', 'nic': 48.81, 'act_cost': 45.96, 'quantity': 1666}, {'bnf_code': '0601021M0AAAAAA', 'items': 16, 'practice': 'J81057', 'bnf_name': 'Gliclazide_Tab 80mg', 'nic': 48.38, 'act_cost': 44.98, 'quantity': 1652}, {'bnf_code': '0601021M0AAAAAA', 'items': 14, 'practice': 'H81027', 'bnf_name': 'Gliclazide_Tab 80mg', 'nic': 26.24, 'act_cost': 24.86, 'quantity': 896}, {'bnf_code': '0601021M0AAAAAA', 'items': 35, 'practice': 'H81097', 'bnf_name': 'Gliclazide_Tab 80mg', 'nic': 76.55, 'act_cost': 72.3, 'quantity': 2614}, {'bnf_code': '0601021M0AAAAAA', 'items': 44, 'practice': 'H81615', 'bnf_name': 'Gliclazide_Tab 80mg', 'nic': 126.68, 'act_cost': 119.34, 'quantity': 4326}])\n"
     ]
    }
   ],
   "source": [
    "print(list(groups.items())[0])"
   ]
  },
  {
   "cell_type": "code",
   "execution_count": 35,
   "metadata": {},
   "outputs": [],
   "source": [
    "groups = group_by_field(scripts, ('bnf_name',))\n",
    "\n",
    "items = [(name, sum([d['items'] for d in group]))\n",
    "         for name, group in groups.items()]\n",
    "\n",
    "test_max_item = max(items, key=lambda tup: tup[1])\n",
    "\n",
    "test_max_item = [(test_max_item[0][0], test_max_item[1])]\n",
    "\n",
    "assert test_max_item == max_item"
   ]
  },
  {
   "cell_type": "markdown",
   "metadata": {},
   "source": [
    "## Question 3: postal_totals\n",
    "\n",
    "Our data set is broken up among different files. This is typical for tabular data to reduce redundancy. Each table typically contains data about a particular type of event, processes, or physical object. Data on prescriptions and medical practices are in separate files in our case. If we want to find the total items prescribed in each postal code, we will have to _join_ our prescription data (`scripts`) to our clinic data (`practices`).\n",
    "\n",
    "Find the total items prescribed in each postal code, representing the results as a list of tuples `(post code, total items prescribed)`. Sort your results ascending alphabetically by post code and take only results from the first 100 post codes. Only include post codes if there is at least one prescription from a practice in that post code.\n",
    "\n",
    "**NOTE:** Some practices have multiple postal codes associated with them. Use the alphabetically first postal code."
   ]
  },
  {
   "cell_type": "markdown",
   "metadata": {},
   "source": [
    "We can join `scripts` and `practices` based on the fact that `'practice'` in `scripts` matches `'code'` in `practices`. However, we must first deal with the repeated values of `'code'` in `practices`. We want the alphabetically first postal codes."
   ]
  },
  {
   "cell_type": "code",
   "execution_count": 36,
   "metadata": {},
   "outputs": [],
   "source": [
    "practice_postal = {}\n",
    "for practice in practices:\n",
    "    if practice['code'] in practice_postal:\n",
    "        practice_postal[practice['code']] = practice['post_code'] if practice['post_code'] < practice_postal[practice['code']] else practice_postal[practice['code']]\n",
    "    else:\n",
    "        practice_postal[practice['code']] = practice['post_code']"
   ]
  },
  {
   "cell_type": "markdown",
   "metadata": {},
   "source": [
    "**Challenge:** This is an aggregation of the practice data grouped by practice codes. Write an alternative implementation of the above cell using the `group_by_field` function you defined previously."
   ]
  },
  {
   "cell_type": "code",
   "execution_count": 37,
   "metadata": {},
   "outputs": [],
   "source": [
    "assert practice_postal['K82019'] == 'HP21 8TR'"
   ]
  },
  {
   "cell_type": "markdown",
   "metadata": {},
   "source": [
    "Now we can join `practice_postal` to `scripts`."
   ]
  },
  {
   "cell_type": "code",
   "execution_count": 38,
   "metadata": {},
   "outputs": [],
   "source": [
    "joined = scripts[:]\n",
    "for script in joined:\n",
    "    script['post_code'] = practice_postal[script['practice']]"
   ]
  },
  {
   "cell_type": "markdown",
   "metadata": {},
   "source": [
    "Finally we'll group the prescription dictionaries in `joined` by `'post_code'` and sum up the items prescribed in each group, as we did in the previous question."
   ]
  },
  {
   "cell_type": "code",
   "execution_count": 39,
   "metadata": {},
   "outputs": [],
   "source": [
    "items_by_post = {}\n",
    "for join in joined:\n",
    "    if join['post_code'] in items_by_post:\n",
    "        items_by_post[join['post_code']]=items_by_post[join['post_code']]+join['items']\n",
    "    else:\n",
    "        items_by_post[join['post_code']]=join['items']"
   ]
  },
  {
   "cell_type": "code",
   "execution_count": 40,
   "metadata": {},
   "outputs": [
    {
     "name": "stdout",
     "output_type": "stream",
     "text": [
      "==================\n",
      "Your score:  1.0\n",
      "==================\n"
     ]
    }
   ],
   "source": [
    "sort_ = sorted(items_by_post)\n",
    "postal_total = []\n",
    "for key in sort_:\n",
    "    postal_total.append((key, items_by_post[key]))\n",
    "\n",
    "postal_totals = postal_total[:100]\n",
    "\n",
    "grader.score.pw__postal_totals(postal_totals)"
   ]
  },
  {
   "cell_type": "markdown",
   "metadata": {},
   "source": [
    "## Question 4: items_by_region\n",
    "\n",
    "Now we'll combine the techniques we've developed to answer a more complex question. Find the most commonly dispensed item in each postal code, representing the results as a list of tuples (`post_code`, `bnf_name`, amount dispensed as proportion of total). Sort your results ascending alphabetically by post code and take only results from the first 100 post codes.\n",
    "\n",
    "**NOTE:** We'll continue to use the `joined` variable we created before, where we've chosen the alphabetically first postal code for each practice. Additionally, some postal codes will have multiple `'bnf_name'` with the same number of items prescribed for the maximum. In this case, we'll take the alphabetically first `'bnf_name'`."
   ]
  },
  {
   "cell_type": "markdown",
   "metadata": {},
   "source": [
    "Now we need to calculate the total items of each `'bnf_name'` prescribed in each `'post_code'`. Use the techniques we developed in the previous questions to calculate these totals. You should have 141196 `('post_code', 'bnf_name')` groups."
   ]
  },
  {
   "cell_type": "code",
   "execution_count": 41,
   "metadata": {},
   "outputs": [],
   "source": [
    "def group_by_field(data,fields):\n",
    "    names={tuple(dict_[field] for field in fields)\n",
    "           for dict_ in data}\n",
    "    groups= {name: [] for name in names}\n",
    "    for dict_ in data:\n",
    "        name = tuple(dict_[field] for field in fields)\n",
    "        groups[name].append(dict_)\n",
    "    return groups"
   ]
  },
  {
   "cell_type": "code",
   "execution_count": 42,
   "metadata": {},
   "outputs": [],
   "source": [
    "total_items_by_bnf_post =  {}\n",
    "for key, group in list(group_by_field(joined, ('post_code', 'bnf_name')).items()):\n",
    "    items_total=sum(d['items'] for d in group)\n",
    "    total_items_by_bnf_post[key]=items_total\n",
    "assert len(total_items_by_bnf_post) == 141196"
   ]
  },
  {
   "cell_type": "markdown",
   "metadata": {},
   "source": [
    "Let's use `total_items` to find the maximum item total for each postal code. To do this, we will want to regroup `total_items_by_bnf_post` by `'post_code'` only, not by `('post_code', 'bnf_name')`. First let's turn `total_items` into a list of dictionaries (similar to `scripts` or `practices`) and then group it by `'post_code'`. You should have 118 groups in the resulting `total_items_by_post` after grouping `total_items` by `'post_code'`."
   ]
  },
  {
   "cell_type": "code",
   "execution_count": 43,
   "metadata": {},
   "outputs": [],
   "source": [
    "\n",
    "total_items = []\n",
    "for (post_code, bnf_name), total in list(total_items_by_bnf_post.items()):\n",
    "        new_dict = {'post_code' : post_code,\n",
    "                    'bnf_name' : bnf_name,\n",
    "                    'total' : total}\n",
    "        total_items.append(new_dict)"
   ]
  },
  {
   "cell_type": "markdown",
   "metadata": {},
   "source": [
    "Now we will aggregate the groups in `total_by_item_post` to create `max_item_by_post`. Some `'bnf_name'` have the same item total within a given postal code. Therefore, if more than one `'bnf_name'` has the maximum item total in a given postal code, we'll take the alphabetically first `'bnf_name'`. We can do this by [sorting](https://docs.python.org/2.7/howto/sorting.html) each group according to the item total and `'bnf_name'`."
   ]
  },
  {
   "cell_type": "code",
   "execution_count": 44,
   "metadata": {},
   "outputs": [],
   "source": [
    "max_item_by_post = ..."
   ]
  },
  {
   "cell_type": "code",
   "execution_count": 45,
   "metadata": {},
   "outputs": [],
   "source": [
    "total_items_by_post=group_by_field(total_items, ('post_code',))\n",
    "assert len(total_items_by_post) == 118"
   ]
  },
  {
   "cell_type": "code",
   "execution_count": 47,
   "metadata": {},
   "outputs": [],
   "source": [
    "max_item_by_post = max(total_items_by_post)"
   ]
  },
  {
   "cell_type": "markdown",
   "metadata": {},
   "source": [
    "In order to express the item totals as a proportion of the total amount of items prescribed across all `'bnf_name'` in a postal code, we'll need to use the total items prescribed that we previously calculated as `items_by_post`. Calculate the proportions for the most common `'bnf_names'` for each postal code. Format your answer as a list of tuples: `[(post_code, bnf_name, total)]`"
   ]
  },
  {
   "cell_type": "code",
   "execution_count": 48,
   "metadata": {},
   "outputs": [],
   "source": [
    "from operator import itemgetter\n",
    "get_total = itemgetter('total')\n",
    "max_item_by_post = []\n",
    "groups = list(total_items_by_post.values())\n",
    "for group in groups:\n",
    "    max_total = sorted(group, key=itemgetter('total'), reverse=True)[0]\n",
    "    max_item_by_post.append(max_total)"
   ]
  },
  {
   "cell_type": "code",
   "execution_count": 49,
   "metadata": {},
   "outputs": [],
   "source": [
    "max_item_by_post = [sorted(group, key=itemgetter('total'), reverse=True)[0]\n",
    "                    for group in list(total_items_by_post.values())]"
   ]
  },
  {
   "cell_type": "code",
   "execution_count": 50,
   "metadata": {},
   "outputs": [],
   "source": [
    "items_by_region=[]\n",
    "for item in max_item_by_post:\n",
    "    numerator= item['total']\n",
    "    denominator=dict(items_by_post)[item['post_code']]\n",
    "    proportion=numerator/denominator\n",
    "    result=(item['post_code'], item['bnf_name'], proportion)\n",
    "    items_by_region.append(result)\n",
    "items_by_region = sorted(items_by_region)[:100]"
   ]
  },
  {
   "cell_type": "code",
   "execution_count": 51,
   "metadata": {},
   "outputs": [
    {
     "name": "stdout",
     "output_type": "stream",
     "text": [
      "==================\n",
      "Your score:  1.0\n",
      "==================\n"
     ]
    }
   ],
   "source": [
    "grader.score.pw__items_by_region(items_by_region)"
   ]
  },
  {
   "cell_type": "markdown",
   "metadata": {},
   "source": [
    "*Copyright &copy; 2020 The Data Incubator.  All rights reserved.*"
   ]
  }
 ],
 "metadata": {
  "kernelspec": {
   "display_name": "Python 3",
   "language": "python",
   "name": "python3"
  },
  "language_info": {
   "codemirror_mode": {
    "name": "ipython",
    "version": 3
   },
   "file_extension": ".py",
   "mimetype": "text/x-python",
   "name": "python",
   "nbconvert_exporter": "python",
   "pygments_lexer": "ipython3",
   "version": "3.7.3"
  },
  "nbclean": true
 },
 "nbformat": 4,
 "nbformat_minor": 1
}
